{
 "cells": [
  {
   "cell_type": "markdown",
   "id": "strange-technology",
   "metadata": {},
   "source": [
    "# Consumer Behavior Analytics - Data Modelling"
   ]
  },
  {
   "cell_type": "markdown",
   "id": "given-corporation",
   "metadata": {},
   "source": [
    "**Libraries and imports**"
   ]
  },
  {
   "cell_type": "code",
   "execution_count": 56,
   "id": "electronic-attribute",
   "metadata": {},
   "outputs": [],
   "source": [
    "# Basic DS libraries\n",
    "import pandas as pd\n",
    "import numpy as np\n",
    "\n",
    "# DataViz libraries\n",
    "import matplotlib.pyplot as plt\n",
    "import seaborn as sns\n",
    "\n",
    "# Data libraries\n",
    "from sklearn.model_selection import train_test_split, cross_validate, RandomizedSearchCV\n",
    "from sklearn.preprocessing import MinMaxScaler, RobustScaler, StandardScaler\n",
    "from sklearn.metrics import classification_report, confusion_matrix\n",
    "from scipy import stats\n",
    "\n",
    "# Models\n",
    "from sklearn.linear_model import LogisticRegression\n",
    "\n",
    "# Notebook setup\n",
    "import warnings\n",
    "warnings.filterwarnings('ignore')\n",
    "\n",
    "pd.set_option('display.max_columns', None)"
   ]
  },
  {
   "cell_type": "code",
   "execution_count": 2,
   "id": "drawn-guide",
   "metadata": {},
   "outputs": [],
   "source": [
    "# Loading customers exposed\n",
    "customers_exposed = pd.read_csv('../data/customers_exposed.csv', parse_dates = ['Dt_Customer'])\n",
    "\n",
    "# Loading customers whole\n",
    "customers_whole = pd.read_csv('../data/customers_whole.csv', parse_dates = ['Dt_Customer'])"
   ]
  },
  {
   "cell_type": "code",
   "execution_count": 3,
   "id": "motivated-angel",
   "metadata": {},
   "outputs": [
    {
     "data": {
      "text/html": [
       "<div>\n",
       "<style scoped>\n",
       "    .dataframe tbody tr th:only-of-type {\n",
       "        vertical-align: middle;\n",
       "    }\n",
       "\n",
       "    .dataframe tbody tr th {\n",
       "        vertical-align: top;\n",
       "    }\n",
       "\n",
       "    .dataframe thead th {\n",
       "        text-align: right;\n",
       "    }\n",
       "</style>\n",
       "<table border=\"1\" class=\"dataframe\">\n",
       "  <thead>\n",
       "    <tr style=\"text-align: right;\">\n",
       "      <th></th>\n",
       "      <th>ID</th>\n",
       "      <th>Year_Birth</th>\n",
       "      <th>Education</th>\n",
       "      <th>Marital_Status</th>\n",
       "      <th>Income</th>\n",
       "      <th>Kidhome</th>\n",
       "      <th>Teenhome</th>\n",
       "      <th>Dt_Customer</th>\n",
       "      <th>Recency</th>\n",
       "      <th>MntWines</th>\n",
       "      <th>MntFruits</th>\n",
       "      <th>MntMeatProducts</th>\n",
       "      <th>MntFishProducts</th>\n",
       "      <th>MntSweetProducts</th>\n",
       "      <th>MntGoldProds</th>\n",
       "      <th>NumDealsPurchases</th>\n",
       "      <th>NumWebPurchases</th>\n",
       "      <th>NumCatalogPurchases</th>\n",
       "      <th>NumStorePurchases</th>\n",
       "      <th>NumWebVisitsMonth</th>\n",
       "      <th>AcceptedCmp3</th>\n",
       "      <th>AcceptedCmp4</th>\n",
       "      <th>AcceptedCmp5</th>\n",
       "      <th>AcceptedCmp1</th>\n",
       "      <th>AcceptedCmp2</th>\n",
       "      <th>Complain</th>\n",
       "      <th>Response</th>\n",
       "      <th>Income_PerCap</th>\n",
       "      <th>Prop_Spending_Income_pc</th>\n",
       "      <th>Avg_Ticket</th>\n",
       "      <th>Age</th>\n",
       "    </tr>\n",
       "  </thead>\n",
       "  <tbody>\n",
       "    <tr>\n",
       "      <th>0</th>\n",
       "      <td>5524</td>\n",
       "      <td>1957</td>\n",
       "      <td>Graduation</td>\n",
       "      <td>Single</td>\n",
       "      <td>58138.0</td>\n",
       "      <td>0</td>\n",
       "      <td>0</td>\n",
       "      <td>2012-09-04</td>\n",
       "      <td>58</td>\n",
       "      <td>635</td>\n",
       "      <td>88</td>\n",
       "      <td>546</td>\n",
       "      <td>172</td>\n",
       "      <td>88</td>\n",
       "      <td>88</td>\n",
       "      <td>3</td>\n",
       "      <td>8</td>\n",
       "      <td>10</td>\n",
       "      <td>4</td>\n",
       "      <td>7</td>\n",
       "      <td>0</td>\n",
       "      <td>0</td>\n",
       "      <td>0</td>\n",
       "      <td>0</td>\n",
       "      <td>0</td>\n",
       "      <td>0</td>\n",
       "      <td>1</td>\n",
       "      <td>58138.0</td>\n",
       "      <td>0.027813</td>\n",
       "      <td>64.68</td>\n",
       "      <td>57</td>\n",
       "    </tr>\n",
       "    <tr>\n",
       "      <th>1</th>\n",
       "      <td>4855</td>\n",
       "      <td>1974</td>\n",
       "      <td>PhD</td>\n",
       "      <td>Together</td>\n",
       "      <td>30351.0</td>\n",
       "      <td>1</td>\n",
       "      <td>0</td>\n",
       "      <td>2013-06-06</td>\n",
       "      <td>19</td>\n",
       "      <td>14</td>\n",
       "      <td>0</td>\n",
       "      <td>24</td>\n",
       "      <td>3</td>\n",
       "      <td>3</td>\n",
       "      <td>2</td>\n",
       "      <td>1</td>\n",
       "      <td>3</td>\n",
       "      <td>0</td>\n",
       "      <td>2</td>\n",
       "      <td>9</td>\n",
       "      <td>0</td>\n",
       "      <td>0</td>\n",
       "      <td>0</td>\n",
       "      <td>0</td>\n",
       "      <td>0</td>\n",
       "      <td>0</td>\n",
       "      <td>1</td>\n",
       "      <td>10117.0</td>\n",
       "      <td>0.004547</td>\n",
       "      <td>7.67</td>\n",
       "      <td>40</td>\n",
       "    </tr>\n",
       "    <tr>\n",
       "      <th>2</th>\n",
       "      <td>5899</td>\n",
       "      <td>1950</td>\n",
       "      <td>PhD</td>\n",
       "      <td>Together</td>\n",
       "      <td>5648.0</td>\n",
       "      <td>1</td>\n",
       "      <td>1</td>\n",
       "      <td>2014-03-13</td>\n",
       "      <td>68</td>\n",
       "      <td>28</td>\n",
       "      <td>0</td>\n",
       "      <td>6</td>\n",
       "      <td>1</td>\n",
       "      <td>1</td>\n",
       "      <td>13</td>\n",
       "      <td>1</td>\n",
       "      <td>1</td>\n",
       "      <td>0</td>\n",
       "      <td>0</td>\n",
       "      <td>20</td>\n",
       "      <td>1</td>\n",
       "      <td>0</td>\n",
       "      <td>0</td>\n",
       "      <td>0</td>\n",
       "      <td>0</td>\n",
       "      <td>0</td>\n",
       "      <td>0</td>\n",
       "      <td>1412.0</td>\n",
       "      <td>0.034703</td>\n",
       "      <td>24.50</td>\n",
       "      <td>64</td>\n",
       "    </tr>\n",
       "    <tr>\n",
       "      <th>3</th>\n",
       "      <td>2114</td>\n",
       "      <td>1946</td>\n",
       "      <td>PhD</td>\n",
       "      <td>Single</td>\n",
       "      <td>82800.0</td>\n",
       "      <td>0</td>\n",
       "      <td>0</td>\n",
       "      <td>2012-11-24</td>\n",
       "      <td>23</td>\n",
       "      <td>1006</td>\n",
       "      <td>22</td>\n",
       "      <td>115</td>\n",
       "      <td>59</td>\n",
       "      <td>68</td>\n",
       "      <td>45</td>\n",
       "      <td>1</td>\n",
       "      <td>7</td>\n",
       "      <td>6</td>\n",
       "      <td>12</td>\n",
       "      <td>3</td>\n",
       "      <td>0</td>\n",
       "      <td>0</td>\n",
       "      <td>1</td>\n",
       "      <td>1</td>\n",
       "      <td>0</td>\n",
       "      <td>0</td>\n",
       "      <td>1</td>\n",
       "      <td>82800.0</td>\n",
       "      <td>0.015882</td>\n",
       "      <td>50.58</td>\n",
       "      <td>68</td>\n",
       "    </tr>\n",
       "    <tr>\n",
       "      <th>4</th>\n",
       "      <td>6565</td>\n",
       "      <td>1949</td>\n",
       "      <td>Master</td>\n",
       "      <td>Married</td>\n",
       "      <td>76995.0</td>\n",
       "      <td>0</td>\n",
       "      <td>1</td>\n",
       "      <td>2013-03-28</td>\n",
       "      <td>91</td>\n",
       "      <td>1012</td>\n",
       "      <td>80</td>\n",
       "      <td>498</td>\n",
       "      <td>0</td>\n",
       "      <td>16</td>\n",
       "      <td>176</td>\n",
       "      <td>2</td>\n",
       "      <td>11</td>\n",
       "      <td>4</td>\n",
       "      <td>9</td>\n",
       "      <td>5</td>\n",
       "      <td>0</td>\n",
       "      <td>0</td>\n",
       "      <td>0</td>\n",
       "      <td>1</td>\n",
       "      <td>0</td>\n",
       "      <td>0</td>\n",
       "      <td>0</td>\n",
       "      <td>25665.0</td>\n",
       "      <td>0.069433</td>\n",
       "      <td>68.54</td>\n",
       "      <td>65</td>\n",
       "    </tr>\n",
       "  </tbody>\n",
       "</table>\n",
       "</div>"
      ],
      "text/plain": [
       "     ID  Year_Birth   Education Marital_Status   Income  Kidhome  Teenhome  \\\n",
       "0  5524        1957  Graduation         Single  58138.0        0         0   \n",
       "1  4855        1974         PhD       Together  30351.0        1         0   \n",
       "2  5899        1950         PhD       Together   5648.0        1         1   \n",
       "3  2114        1946         PhD         Single  82800.0        0         0   \n",
       "4  6565        1949      Master        Married  76995.0        0         1   \n",
       "\n",
       "  Dt_Customer  Recency  MntWines  MntFruits  MntMeatProducts  MntFishProducts  \\\n",
       "0  2012-09-04       58       635         88              546              172   \n",
       "1  2013-06-06       19        14          0               24                3   \n",
       "2  2014-03-13       68        28          0                6                1   \n",
       "3  2012-11-24       23      1006         22              115               59   \n",
       "4  2013-03-28       91      1012         80              498                0   \n",
       "\n",
       "   MntSweetProducts  MntGoldProds  NumDealsPurchases  NumWebPurchases  \\\n",
       "0                88            88                  3                8   \n",
       "1                 3             2                  1                3   \n",
       "2                 1            13                  1                1   \n",
       "3                68            45                  1                7   \n",
       "4                16           176                  2               11   \n",
       "\n",
       "   NumCatalogPurchases  NumStorePurchases  NumWebVisitsMonth  AcceptedCmp3  \\\n",
       "0                   10                  4                  7             0   \n",
       "1                    0                  2                  9             0   \n",
       "2                    0                  0                 20             1   \n",
       "3                    6                 12                  3             0   \n",
       "4                    4                  9                  5             0   \n",
       "\n",
       "   AcceptedCmp4  AcceptedCmp5  AcceptedCmp1  AcceptedCmp2  Complain  Response  \\\n",
       "0             0             0             0             0         0         1   \n",
       "1             0             0             0             0         0         1   \n",
       "2             0             0             0             0         0         0   \n",
       "3             0             1             1             0         0         1   \n",
       "4             0             0             1             0         0         0   \n",
       "\n",
       "   Income_PerCap  Prop_Spending_Income_pc  Avg_Ticket  Age  \n",
       "0        58138.0                 0.027813       64.68   57  \n",
       "1        10117.0                 0.004547        7.67   40  \n",
       "2         1412.0                 0.034703       24.50   64  \n",
       "3        82800.0                 0.015882       50.58   68  \n",
       "4        25665.0                 0.069433       68.54   65  "
      ]
     },
     "execution_count": 3,
     "metadata": {},
     "output_type": "execute_result"
    }
   ],
   "source": [
    "customers_exposed.head()"
   ]
  },
  {
   "cell_type": "markdown",
   "id": "continental-latitude",
   "metadata": {},
   "source": [
    "## Data Preparation"
   ]
  },
  {
   "cell_type": "code",
   "execution_count": 4,
   "id": "reverse-witch",
   "metadata": {},
   "outputs": [],
   "source": [
    "# Transforming datetime feature to numeric feature\n",
    "customers_exposed['Dt_Customer_InDays'] = customers_exposed['Dt_Customer'] - customers_exposed['Dt_Customer'].min()\n",
    "customers_exposed['Dt_Customer_InDays'] = (customers_exposed['Dt_Customer_InDays'] / \\\n",
    "                                                       np.timedelta64(1, 'D')).astype(int) + 1"
   ]
  },
  {
   "cell_type": "code",
   "execution_count": 5,
   "id": "skilled-philosophy",
   "metadata": {},
   "outputs": [],
   "source": [
    "# Splittin data into train and test DFs\n",
    "X = customers_exposed.drop(['ID', 'Response', 'Dt_Customer'], axis = 1)\n",
    "y = customers_exposed['Response']"
   ]
  },
  {
   "cell_type": "code",
   "execution_count": 6,
   "id": "filled-theorem",
   "metadata": {},
   "outputs": [],
   "source": [
    "X = pd.get_dummies(X)"
   ]
  },
  {
   "cell_type": "code",
   "execution_count": 7,
   "id": "seven-stamp",
   "metadata": {},
   "outputs": [],
   "source": [
    "X_train, X_test, y_train, y_test = train_test_split(X, y, test_size = .2, random_state = 7)"
   ]
  },
  {
   "cell_type": "code",
   "execution_count": 8,
   "id": "intellectual-vienna",
   "metadata": {},
   "outputs": [
    {
     "data": {
      "text/plain": [
       "((485, 37), (485,), (122, 37), (122,))"
      ]
     },
     "execution_count": 8,
     "metadata": {},
     "output_type": "execute_result"
    }
   ],
   "source": [
    "X_train.shape, y_train.shape, X_test.shape, y_test.shape"
   ]
  },
  {
   "cell_type": "code",
   "execution_count": 9,
   "id": "useful-compiler",
   "metadata": {},
   "outputs": [],
   "source": [
    "X_train, X_val, y_train, y_val = train_test_split(X_train, y_train, test_size = .2, random_state = 7)"
   ]
  },
  {
   "cell_type": "code",
   "execution_count": 10,
   "id": "occasional-diesel",
   "metadata": {},
   "outputs": [
    {
     "data": {
      "text/plain": [
       "((388, 37), (388,), (97, 37), (97,))"
      ]
     },
     "execution_count": 10,
     "metadata": {},
     "output_type": "execute_result"
    }
   ],
   "source": [
    "X_train.shape, y_train.shape, X_val.shape, y_val.shape"
   ]
  },
  {
   "cell_type": "code",
   "execution_count": 301,
   "id": "indirect-being",
   "metadata": {},
   "outputs": [],
   "source": [
    "# Separating numeric features in a list\n",
    "numeric_features = [\n",
    "#     'Year_Birth', \n",
    "    'Income', \n",
    "    'Kidhome',                \n",
    "    'Teenhome', \n",
    "    'Recency', \n",
    "    'MntWines', \n",
    "    'MntFruits',\n",
    "    'MntMeatProducts', \n",
    "    'MntFishProducts', \n",
    "    'MntSweetProducts',\n",
    "    'MntGoldProds', \n",
    "    'NumDealsPurchases', \n",
    "    'NumWebPurchases',\n",
    "    'NumCatalogPurchases', \n",
    "    'NumStorePurchases', \n",
    "    'NumWebVisitsMonth', \n",
    "    'Income_PerCap',\n",
    "    'Prop_Spending_Income_pc', \n",
    "    'Avg_Ticket', \n",
    "    'Age', \n",
    "    'Dt_Customer_InDays'\n",
    "]"
   ]
  },
  {
   "cell_type": "code",
   "execution_count": 302,
   "id": "raised-sweden",
   "metadata": {},
   "outputs": [
    {
     "data": {
      "text/html": [
       "<div>\n",
       "<style scoped>\n",
       "    .dataframe tbody tr th:only-of-type {\n",
       "        vertical-align: middle;\n",
       "    }\n",
       "\n",
       "    .dataframe tbody tr th {\n",
       "        vertical-align: top;\n",
       "    }\n",
       "\n",
       "    .dataframe thead th {\n",
       "        text-align: right;\n",
       "    }\n",
       "</style>\n",
       "<table border=\"1\" class=\"dataframe\">\n",
       "  <thead>\n",
       "    <tr style=\"text-align: right;\">\n",
       "      <th></th>\n",
       "      <th>vif_index</th>\n",
       "      <th>feature</th>\n",
       "    </tr>\n",
       "  </thead>\n",
       "  <tbody>\n",
       "    <tr>\n",
       "      <th>0</th>\n",
       "      <td>51.608195</td>\n",
       "      <td>Income</td>\n",
       "    </tr>\n",
       "    <tr>\n",
       "      <th>1</th>\n",
       "      <td>3.584785</td>\n",
       "      <td>Kidhome</td>\n",
       "    </tr>\n",
       "    <tr>\n",
       "      <th>2</th>\n",
       "      <td>3.805009</td>\n",
       "      <td>Teenhome</td>\n",
       "    </tr>\n",
       "    <tr>\n",
       "      <th>3</th>\n",
       "      <td>3.442364</td>\n",
       "      <td>Recency</td>\n",
       "    </tr>\n",
       "    <tr>\n",
       "      <th>4</th>\n",
       "      <td>16.987244</td>\n",
       "      <td>MntWines</td>\n",
       "    </tr>\n",
       "    <tr>\n",
       "      <th>5</th>\n",
       "      <td>3.066530</td>\n",
       "      <td>MntFruits</td>\n",
       "    </tr>\n",
       "    <tr>\n",
       "      <th>6</th>\n",
       "      <td>8.244089</td>\n",
       "      <td>MntMeatProducts</td>\n",
       "    </tr>\n",
       "    <tr>\n",
       "      <th>7</th>\n",
       "      <td>3.411236</td>\n",
       "      <td>MntFishProducts</td>\n",
       "    </tr>\n",
       "    <tr>\n",
       "      <th>8</th>\n",
       "      <td>3.162690</td>\n",
       "      <td>MntSweetProducts</td>\n",
       "    </tr>\n",
       "    <tr>\n",
       "      <th>9</th>\n",
       "      <td>2.972621</td>\n",
       "      <td>MntGoldProds</td>\n",
       "    </tr>\n",
       "    <tr>\n",
       "      <th>10</th>\n",
       "      <td>5.818350</td>\n",
       "      <td>NumDealsPurchases</td>\n",
       "    </tr>\n",
       "    <tr>\n",
       "      <th>11</th>\n",
       "      <td>8.385204</td>\n",
       "      <td>NumWebPurchases</td>\n",
       "    </tr>\n",
       "    <tr>\n",
       "      <th>12</th>\n",
       "      <td>7.652374</td>\n",
       "      <td>NumCatalogPurchases</td>\n",
       "    </tr>\n",
       "    <tr>\n",
       "      <th>13</th>\n",
       "      <td>10.361026</td>\n",
       "      <td>NumStorePurchases</td>\n",
       "    </tr>\n",
       "    <tr>\n",
       "      <th>14</th>\n",
       "      <td>9.004331</td>\n",
       "      <td>NumWebVisitsMonth</td>\n",
       "    </tr>\n",
       "    <tr>\n",
       "      <th>15</th>\n",
       "      <td>23.388239</td>\n",
       "      <td>Income_PerCap</td>\n",
       "    </tr>\n",
       "    <tr>\n",
       "      <th>16</th>\n",
       "      <td>33.442611</td>\n",
       "      <td>Prop_Spending_Income_pc</td>\n",
       "    </tr>\n",
       "    <tr>\n",
       "      <th>17</th>\n",
       "      <td>2.423679</td>\n",
       "      <td>Avg_Ticket</td>\n",
       "    </tr>\n",
       "    <tr>\n",
       "      <th>18</th>\n",
       "      <td>15.062267</td>\n",
       "      <td>Age</td>\n",
       "    </tr>\n",
       "    <tr>\n",
       "      <th>19</th>\n",
       "      <td>3.688342</td>\n",
       "      <td>Dt_Customer_InDays</td>\n",
       "    </tr>\n",
       "  </tbody>\n",
       "</table>\n",
       "</div>"
      ],
      "text/plain": [
       "    vif_index                  feature\n",
       "0   51.608195                   Income\n",
       "1    3.584785                  Kidhome\n",
       "2    3.805009                 Teenhome\n",
       "3    3.442364                  Recency\n",
       "4   16.987244                 MntWines\n",
       "5    3.066530                MntFruits\n",
       "6    8.244089          MntMeatProducts\n",
       "7    3.411236          MntFishProducts\n",
       "8    3.162690         MntSweetProducts\n",
       "9    2.972621             MntGoldProds\n",
       "10   5.818350        NumDealsPurchases\n",
       "11   8.385204          NumWebPurchases\n",
       "12   7.652374      NumCatalogPurchases\n",
       "13  10.361026        NumStorePurchases\n",
       "14   9.004331        NumWebVisitsMonth\n",
       "15  23.388239            Income_PerCap\n",
       "16  33.442611  Prop_Spending_Income_pc\n",
       "17   2.423679               Avg_Ticket\n",
       "18  15.062267                      Age\n",
       "19   3.688342       Dt_Customer_InDays"
      ]
     },
     "execution_count": 302,
     "metadata": {},
     "output_type": "execute_result"
    }
   ],
   "source": [
    "from statsmodels.stats.outliers_influence import variance_inflation_factor as vif\n",
    "df = pd.DataFrame()\n",
    "df[\"vif_index\"] = [vif(customers_exposed[numeric_features].values, i) for i in range(customers_exposed[numeric_features].shape[1])]\n",
    "df[\"feature\"] = customers_exposed[numeric_features].columns\n",
    "df"
   ]
  },
  {
   "cell_type": "code",
   "execution_count": 303,
   "id": "abandoned-builder",
   "metadata": {},
   "outputs": [
    {
     "data": {
      "text/plain": [
       "['MntFruits',\n",
       " 'MntMeatProducts',\n",
       " 'MntFishProducts',\n",
       " 'MntSweetProducts',\n",
       " 'MntGoldProds',\n",
       " 'NumDealsPurchases',\n",
       " 'NumWebVisitsMonth',\n",
       " 'Income_PerCap',\n",
       " 'Prop_Spending_Income_pc',\n",
       " 'Avg_Ticket']"
      ]
     },
     "execution_count": 303,
     "metadata": {},
     "output_type": "execute_result"
    }
   ],
   "source": [
    "# Listing features names if feature has outlier\n",
    "to_robust_scale = []\n",
    "for feature in numeric_features:\n",
    "    \n",
    "    Q1 = np.percentile(customers_exposed[feature].sort_values(), 25, interpolation = 'midpoint')  \n",
    "    Q3 = np.percentile(customers_exposed[feature].sort_values(), 75, interpolation = 'midpoint')  \n",
    "\n",
    "    IQR = Q3 - Q1  \n",
    "    \n",
    "    low_lim = Q1 - 1.5 * IQR \n",
    "    up_lim = Q3 + 1.5 * IQR \n",
    "\n",
    "    if (customers_exposed[feature] > up_lim).any() or (customers_exposed[feature] < low_lim).any(): \n",
    "         to_robust_scale.append(feature)\n",
    "\n",
    "to_robust_scale"
   ]
  },
  {
   "cell_type": "code",
   "execution_count": 304,
   "id": "plain-montgomery",
   "metadata": {},
   "outputs": [
    {
     "data": {
      "text/plain": [
       "['Income',\n",
       " 'Kidhome',\n",
       " 'Teenhome',\n",
       " 'Recency',\n",
       " 'MntWines',\n",
       " 'NumWebPurchases',\n",
       " 'NumCatalogPurchases',\n",
       " 'NumStorePurchases',\n",
       " 'Age',\n",
       " 'Dt_Customer_InDays']"
      ]
     },
     "execution_count": 304,
     "metadata": {},
     "output_type": "execute_result"
    }
   ],
   "source": [
    "to_standardize = [feature for feature in numeric_features if feature not in to_robust_scale]\n",
    "to_standardize"
   ]
  },
  {
   "cell_type": "code",
   "execution_count": 305,
   "id": "saving-prerequisite",
   "metadata": {},
   "outputs": [],
   "source": [
    "robust_scaler = RobustScaler()\n",
    "robust_scaler.fit(X_train[to_robust_scale])\n",
    "X_train[to_robust_scale] = robust_scaler.transform(X_train[to_robust_scale])"
   ]
  },
  {
   "cell_type": "code",
   "execution_count": 306,
   "id": "differential-monitor",
   "metadata": {},
   "outputs": [],
   "source": [
    "stand_scaler = StandardScaler()\n",
    "\n",
    "stand_scaler.fit(X_train[to_standardize])\n",
    "X_train[to_standardize] = stand_scaler.transform(X_train[to_standardize])"
   ]
  },
  {
   "cell_type": "code",
   "execution_count": 307,
   "id": "superb-composite",
   "metadata": {},
   "outputs": [
    {
     "data": {
      "text/html": [
       "<div>\n",
       "<style scoped>\n",
       "    .dataframe tbody tr th:only-of-type {\n",
       "        vertical-align: middle;\n",
       "    }\n",
       "\n",
       "    .dataframe tbody tr th {\n",
       "        vertical-align: top;\n",
       "    }\n",
       "\n",
       "    .dataframe thead th {\n",
       "        text-align: right;\n",
       "    }\n",
       "</style>\n",
       "<table border=\"1\" class=\"dataframe\">\n",
       "  <thead>\n",
       "    <tr style=\"text-align: right;\">\n",
       "      <th></th>\n",
       "      <th>Year_Birth</th>\n",
       "      <th>Income</th>\n",
       "      <th>Kidhome</th>\n",
       "      <th>Teenhome</th>\n",
       "      <th>Recency</th>\n",
       "      <th>MntWines</th>\n",
       "      <th>MntFruits</th>\n",
       "      <th>MntMeatProducts</th>\n",
       "      <th>MntFishProducts</th>\n",
       "      <th>MntSweetProducts</th>\n",
       "      <th>MntGoldProds</th>\n",
       "      <th>NumDealsPurchases</th>\n",
       "      <th>NumWebPurchases</th>\n",
       "      <th>NumCatalogPurchases</th>\n",
       "      <th>NumStorePurchases</th>\n",
       "      <th>NumWebVisitsMonth</th>\n",
       "      <th>AcceptedCmp3</th>\n",
       "      <th>AcceptedCmp4</th>\n",
       "      <th>AcceptedCmp5</th>\n",
       "      <th>AcceptedCmp1</th>\n",
       "      <th>AcceptedCmp2</th>\n",
       "      <th>Complain</th>\n",
       "      <th>Income_PerCap</th>\n",
       "      <th>Prop_Spending_Income_pc</th>\n",
       "      <th>Avg_Ticket</th>\n",
       "      <th>Age</th>\n",
       "      <th>Dt_Customer_InDays</th>\n",
       "      <th>Education_2n Cycle</th>\n",
       "      <th>Education_Basic</th>\n",
       "      <th>Education_Graduation</th>\n",
       "      <th>Education_Master</th>\n",
       "      <th>Education_PhD</th>\n",
       "      <th>Marital_Status_Divorced</th>\n",
       "      <th>Marital_Status_Married</th>\n",
       "      <th>Marital_Status_Single</th>\n",
       "      <th>Marital_Status_Together</th>\n",
       "      <th>Marital_Status_Widow</th>\n",
       "    </tr>\n",
       "  </thead>\n",
       "  <tbody>\n",
       "    <tr>\n",
       "      <th>523</th>\n",
       "      <td>0.649399</td>\n",
       "      <td>0.503782</td>\n",
       "      <td>-0.643008</td>\n",
       "      <td>-0.739481</td>\n",
       "      <td>-1.456681</td>\n",
       "      <td>1.839603</td>\n",
       "      <td>1.817204</td>\n",
       "      <td>1.263609</td>\n",
       "      <td>0.097222</td>\n",
       "      <td>0.052083</td>\n",
       "      <td>-0.628821</td>\n",
       "      <td>0.0</td>\n",
       "      <td>1.905093</td>\n",
       "      <td>-0.031754</td>\n",
       "      <td>0.437187</td>\n",
       "      <td>0.75</td>\n",
       "      <td>0</td>\n",
       "      <td>0</td>\n",
       "      <td>0</td>\n",
       "      <td>0</td>\n",
       "      <td>0</td>\n",
       "      <td>0</td>\n",
       "      <td>0.279536</td>\n",
       "      <td>1.133917</td>\n",
       "      <td>0.978875</td>\n",
       "      <td>-0.649399</td>\n",
       "      <td>-1.471897</td>\n",
       "      <td>0</td>\n",
       "      <td>0</td>\n",
       "      <td>0</td>\n",
       "      <td>0</td>\n",
       "      <td>1</td>\n",
       "      <td>0</td>\n",
       "      <td>0</td>\n",
       "      <td>0</td>\n",
       "      <td>1</td>\n",
       "      <td>0</td>\n",
       "    </tr>\n",
       "    <tr>\n",
       "      <th>576</th>\n",
       "      <td>0.404375</td>\n",
       "      <td>0.177987</td>\n",
       "      <td>-0.643008</td>\n",
       "      <td>1.076460</td>\n",
       "      <td>0.465041</td>\n",
       "      <td>0.303350</td>\n",
       "      <td>-0.290323</td>\n",
       "      <td>-0.108869</td>\n",
       "      <td>-0.291667</td>\n",
       "      <td>-0.072917</td>\n",
       "      <td>-0.104803</td>\n",
       "      <td>3.0</td>\n",
       "      <td>1.519503</td>\n",
       "      <td>-0.031754</td>\n",
       "      <td>0.437187</td>\n",
       "      <td>0.25</td>\n",
       "      <td>0</td>\n",
       "      <td>1</td>\n",
       "      <td>1</td>\n",
       "      <td>0</td>\n",
       "      <td>0</td>\n",
       "      <td>0</td>\n",
       "      <td>0.148863</td>\n",
       "      <td>-0.073985</td>\n",
       "      <td>-0.295949</td>\n",
       "      <td>-0.404375</td>\n",
       "      <td>1.044072</td>\n",
       "      <td>0</td>\n",
       "      <td>0</td>\n",
       "      <td>1</td>\n",
       "      <td>0</td>\n",
       "      <td>0</td>\n",
       "      <td>0</td>\n",
       "      <td>0</td>\n",
       "      <td>1</td>\n",
       "      <td>0</td>\n",
       "      <td>0</td>\n",
       "    </tr>\n",
       "    <tr>\n",
       "      <th>385</th>\n",
       "      <td>-1.065773</td>\n",
       "      <td>-0.720858</td>\n",
       "      <td>1.418869</td>\n",
       "      <td>1.076460</td>\n",
       "      <td>-0.667402</td>\n",
       "      <td>-1.196383</td>\n",
       "      <td>-0.440860</td>\n",
       "      <td>-0.329052</td>\n",
       "      <td>-0.291667</td>\n",
       "      <td>-0.385417</td>\n",
       "      <td>-0.524017</td>\n",
       "      <td>0.0</td>\n",
       "      <td>-1.565217</td>\n",
       "      <td>-1.400704</td>\n",
       "      <td>-1.080063</td>\n",
       "      <td>0.50</td>\n",
       "      <td>1</td>\n",
       "      <td>0</td>\n",
       "      <td>0</td>\n",
       "      <td>0</td>\n",
       "      <td>1</td>\n",
       "      <td>0</td>\n",
       "      <td>-0.641028</td>\n",
       "      <td>-0.812537</td>\n",
       "      <td>-0.689866</td>\n",
       "      <td>1.065773</td>\n",
       "      <td>1.458581</td>\n",
       "      <td>0</td>\n",
       "      <td>0</td>\n",
       "      <td>0</td>\n",
       "      <td>0</td>\n",
       "      <td>1</td>\n",
       "      <td>0</td>\n",
       "      <td>0</td>\n",
       "      <td>0</td>\n",
       "      <td>1</td>\n",
       "      <td>0</td>\n",
       "    </tr>\n",
       "    <tr>\n",
       "      <th>133</th>\n",
       "      <td>-0.004000</td>\n",
       "      <td>-1.953919</td>\n",
       "      <td>1.418869</td>\n",
       "      <td>1.076460</td>\n",
       "      <td>0.087560</td>\n",
       "      <td>-1.254815</td>\n",
       "      <td>-0.376344</td>\n",
       "      <td>-0.282569</td>\n",
       "      <td>-0.263889</td>\n",
       "      <td>-0.364583</td>\n",
       "      <td>-0.139738</td>\n",
       "      <td>1.5</td>\n",
       "      <td>-0.794037</td>\n",
       "      <td>-1.058466</td>\n",
       "      <td>-1.383514</td>\n",
       "      <td>0.75</td>\n",
       "      <td>1</td>\n",
       "      <td>0</td>\n",
       "      <td>0</td>\n",
       "      <td>0</td>\n",
       "      <td>0</td>\n",
       "      <td>0</td>\n",
       "      <td>-0.888312</td>\n",
       "      <td>-0.445792</td>\n",
       "      <td>-0.736810</td>\n",
       "      <td>0.004000</td>\n",
       "      <td>1.087451</td>\n",
       "      <td>0</td>\n",
       "      <td>0</td>\n",
       "      <td>1</td>\n",
       "      <td>0</td>\n",
       "      <td>0</td>\n",
       "      <td>0</td>\n",
       "      <td>1</td>\n",
       "      <td>0</td>\n",
       "      <td>0</td>\n",
       "      <td>0</td>\n",
       "    </tr>\n",
       "    <tr>\n",
       "      <th>418</th>\n",
       "      <td>0.404375</td>\n",
       "      <td>-1.193358</td>\n",
       "      <td>1.418869</td>\n",
       "      <td>1.076460</td>\n",
       "      <td>-0.255605</td>\n",
       "      <td>-1.252380</td>\n",
       "      <td>-0.440860</td>\n",
       "      <td>-0.314373</td>\n",
       "      <td>-0.236111</td>\n",
       "      <td>-0.343750</td>\n",
       "      <td>-0.279476</td>\n",
       "      <td>0.5</td>\n",
       "      <td>-1.565217</td>\n",
       "      <td>-1.058466</td>\n",
       "      <td>-1.383514</td>\n",
       "      <td>0.00</td>\n",
       "      <td>1</td>\n",
       "      <td>0</td>\n",
       "      <td>0</td>\n",
       "      <td>0</td>\n",
       "      <td>0</td>\n",
       "      <td>0</td>\n",
       "      <td>-0.624247</td>\n",
       "      <td>-0.808901</td>\n",
       "      <td>-0.710889</td>\n",
       "      <td>-0.404375</td>\n",
       "      <td>1.632096</td>\n",
       "      <td>0</td>\n",
       "      <td>0</td>\n",
       "      <td>0</td>\n",
       "      <td>0</td>\n",
       "      <td>1</td>\n",
       "      <td>1</td>\n",
       "      <td>0</td>\n",
       "      <td>0</td>\n",
       "      <td>0</td>\n",
       "      <td>0</td>\n",
       "    </tr>\n",
       "  </tbody>\n",
       "</table>\n",
       "</div>"
      ],
      "text/plain": [
       "     Year_Birth    Income   Kidhome  Teenhome   Recency  MntWines  MntFruits  \\\n",
       "523    0.649399  0.503782 -0.643008 -0.739481 -1.456681  1.839603   1.817204   \n",
       "576    0.404375  0.177987 -0.643008  1.076460  0.465041  0.303350  -0.290323   \n",
       "385   -1.065773 -0.720858  1.418869  1.076460 -0.667402 -1.196383  -0.440860   \n",
       "133   -0.004000 -1.953919  1.418869  1.076460  0.087560 -1.254815  -0.376344   \n",
       "418    0.404375 -1.193358  1.418869  1.076460 -0.255605 -1.252380  -0.440860   \n",
       "\n",
       "     MntMeatProducts  MntFishProducts  MntSweetProducts  MntGoldProds  \\\n",
       "523         1.263609         0.097222          0.052083     -0.628821   \n",
       "576        -0.108869        -0.291667         -0.072917     -0.104803   \n",
       "385        -0.329052        -0.291667         -0.385417     -0.524017   \n",
       "133        -0.282569        -0.263889         -0.364583     -0.139738   \n",
       "418        -0.314373        -0.236111         -0.343750     -0.279476   \n",
       "\n",
       "     NumDealsPurchases  NumWebPurchases  NumCatalogPurchases  \\\n",
       "523                0.0         1.905093            -0.031754   \n",
       "576                3.0         1.519503            -0.031754   \n",
       "385                0.0        -1.565217            -1.400704   \n",
       "133                1.5        -0.794037            -1.058466   \n",
       "418                0.5        -1.565217            -1.058466   \n",
       "\n",
       "     NumStorePurchases  NumWebVisitsMonth  AcceptedCmp3  AcceptedCmp4  \\\n",
       "523           0.437187               0.75             0             0   \n",
       "576           0.437187               0.25             0             1   \n",
       "385          -1.080063               0.50             1             0   \n",
       "133          -1.383514               0.75             1             0   \n",
       "418          -1.383514               0.00             1             0   \n",
       "\n",
       "     AcceptedCmp5  AcceptedCmp1  AcceptedCmp2  Complain  Income_PerCap  \\\n",
       "523             0             0             0         0       0.279536   \n",
       "576             1             0             0         0       0.148863   \n",
       "385             0             0             1         0      -0.641028   \n",
       "133             0             0             0         0      -0.888312   \n",
       "418             0             0             0         0      -0.624247   \n",
       "\n",
       "     Prop_Spending_Income_pc  Avg_Ticket       Age  Dt_Customer_InDays  \\\n",
       "523                 1.133917    0.978875 -0.649399           -1.471897   \n",
       "576                -0.073985   -0.295949 -0.404375            1.044072   \n",
       "385                -0.812537   -0.689866  1.065773            1.458581   \n",
       "133                -0.445792   -0.736810  0.004000            1.087451   \n",
       "418                -0.808901   -0.710889 -0.404375            1.632096   \n",
       "\n",
       "     Education_2n Cycle  Education_Basic  Education_Graduation  \\\n",
       "523                   0                0                     0   \n",
       "576                   0                0                     1   \n",
       "385                   0                0                     0   \n",
       "133                   0                0                     1   \n",
       "418                   0                0                     0   \n",
       "\n",
       "     Education_Master  Education_PhD  Marital_Status_Divorced  \\\n",
       "523                 0              1                        0   \n",
       "576                 0              0                        0   \n",
       "385                 0              1                        0   \n",
       "133                 0              0                        0   \n",
       "418                 0              1                        1   \n",
       "\n",
       "     Marital_Status_Married  Marital_Status_Single  Marital_Status_Together  \\\n",
       "523                       0                      0                        1   \n",
       "576                       0                      1                        0   \n",
       "385                       0                      0                        1   \n",
       "133                       1                      0                        0   \n",
       "418                       0                      0                        0   \n",
       "\n",
       "     Marital_Status_Widow  \n",
       "523                     0  \n",
       "576                     0  \n",
       "385                     0  \n",
       "133                     0  \n",
       "418                     0  "
      ]
     },
     "execution_count": 307,
     "metadata": {},
     "output_type": "execute_result"
    }
   ],
   "source": [
    "X_train.head()"
   ]
  },
  {
   "cell_type": "code",
   "execution_count": 308,
   "id": "surrounded-partition",
   "metadata": {},
   "outputs": [],
   "source": [
    "# Transforming x_val and x_test with scalers from X_train\n",
    "\n",
    "X_val[to_robust_scale] = robust_scaler.transform(X_val[to_robust_scale])\n",
    "X_test[to_robust_scale] = robust_scaler.transform(X_test[to_robust_scale])\n",
    "\n",
    "X_val[to_standardize] = stand_scaler.transform(X_val[to_standardize])\n",
    "X_test[to_standardize] = stand_scaler.transform(X_test[to_standardize])"
   ]
  },
  {
   "cell_type": "code",
   "execution_count": 313,
   "id": "demonstrated-proposition",
   "metadata": {},
   "outputs": [
    {
     "data": {
      "text/plain": [
       "LogisticRegression()"
      ]
     },
     "execution_count": 313,
     "metadata": {},
     "output_type": "execute_result"
    }
   ],
   "source": [
    "log_model = LogisticRegression()\n",
    "log_model.fit(X_train, y_train)"
   ]
  },
  {
   "cell_type": "code",
   "execution_count": 314,
   "id": "color-institution",
   "metadata": {},
   "outputs": [
    {
     "data": {
      "text/plain": [
       "0.7731958762886598"
      ]
     },
     "execution_count": 314,
     "metadata": {},
     "output_type": "execute_result"
    }
   ],
   "source": [
    "log_model.score(X_val, y_val)"
   ]
  },
  {
   "cell_type": "code",
   "execution_count": 315,
   "id": "proper-complaint",
   "metadata": {},
   "outputs": [],
   "source": [
    "y_val_pred = log_model.predict(X_val)\n",
    "y_test_pred = log_model.predict(X_test)"
   ]
  },
  {
   "cell_type": "code",
   "execution_count": 316,
   "id": "knowing-paper",
   "metadata": {},
   "outputs": [
    {
     "name": "stdout",
     "output_type": "stream",
     "text": [
      "              precision    recall  f1-score   support\n",
      "\n",
      "           0       0.78      0.78      0.78        59\n",
      "           1       0.79      0.79      0.79        63\n",
      "\n",
      "    accuracy                           0.79       122\n",
      "   macro avg       0.79      0.79      0.79       122\n",
      "weighted avg       0.79      0.79      0.79       122\n",
      "\n"
     ]
    }
   ],
   "source": [
    "print(classification_report(y_test, y_test_pred))"
   ]
  },
  {
   "cell_type": "code",
   "execution_count": 317,
   "id": "jewish-frost",
   "metadata": {},
   "outputs": [
    {
     "data": {
      "image/png": "[encoded data removed]",
      "text/plain": [
       "<Figure size 432x288 with 2 Axes>"
      ]
     },
     "metadata": {
      "needs_background": "light"
     },
     "output_type": "display_data"
    }
   ],
   "source": [
    "sns.heatmap(confusion_matrix(y_test, y_test_pred, labels = [1, 0]), annot = True);"
   ]
  },
  {
   "cell_type": "code",
   "execution_count": 318,
   "id": "premium-significance",
   "metadata": {},
   "outputs": [
    {
     "data": {
      "text/plain": [
       "{'fit_time': array([0.02256083, 0.03904986, 0.01743102, 0.01541615, 0.01244593,\n",
       "        0.01313806, 0.01270175, 0.01321101, 0.01276422, 0.0137291 ]),\n",
       " 'score_time': array([0.00414824, 0.00412393, 0.00281405, 0.00286889, 0.00265193,\n",
       "        0.00261593, 0.00299406, 0.00271988, 0.00269008, 0.002635  ]),\n",
       " 'test_accuracy': array([0.87179487, 0.84615385, 0.84615385, 0.71794872, 0.71794872,\n",
       "        0.71794872, 0.84615385, 0.76923077, 0.65789474, 0.84210526]),\n",
       " 'test_f1': array([0.87804878, 0.86363636, 0.85714286, 0.74418605, 0.7755102 ,\n",
       "        0.73170732, 0.86363636, 0.79069767, 0.66666667, 0.85      ])}"
      ]
     },
     "execution_count": 318,
     "metadata": {},
     "output_type": "execute_result"
    }
   ],
   "source": [
    "cv_log_model = cross_validate(log_model, X_train, y_train, cv = 10, scoring = ['accuracy', 'f1'])\n",
    "cv_log_model"
   ]
  },
  {
   "cell_type": "code",
   "execution_count": 319,
   "id": "authorized-boxing",
   "metadata": {},
   "outputs": [
    {
     "data": {
      "text/plain": [
       "0.7833333333333333"
      ]
     },
     "execution_count": 319,
     "metadata": {},
     "output_type": "execute_result"
    }
   ],
   "source": [
    "cv_log_model['test_accuracy'].mean()"
   ]
  },
  {
   "cell_type": "code",
   "execution_count": 320,
   "id": "offensive-colony",
   "metadata": {},
   "outputs": [
    {
     "data": {
      "text/plain": [
       "0.8021232273655092"
      ]
     },
     "execution_count": 320,
     "metadata": {},
     "output_type": "execute_result"
    }
   ],
   "source": [
    "cv_log_model['test_f1'].mean()"
   ]
  },
  {
   "cell_type": "code",
   "execution_count": 331,
   "id": "joined-absorption",
   "metadata": {},
   "outputs": [],
   "source": [
    "LogisticRegression()\n",
    "\n",
    "\n",
    "random_grid = {\n",
    "    'penalty': ['l2', 'l1', 'elasticnet'],\n",
    "    'tol': stats.loguniform(0.1, 1),\n",
    "    'C': stats.loguniform(3, 10)\n",
    "    }\n",
    "\n",
    "log_model_rand_search = RandomizedSearchCV(log_model, param_distributions = random_grid, \n",
    "                                           n_iter = 100, cv = 10, scoring = 'f1', verbose = 1, n_jobs = -1)"
   ]
  },
  {
   "cell_type": "code",
   "execution_count": 332,
   "id": "distinguished-shield",
   "metadata": {},
   "outputs": [
    {
     "name": "stdout",
     "output_type": "stream",
     "text": [
      "Fitting 10 folds for each of 100 candidates, totalling 1000 fits\n"
     ]
    },
    {
     "data": {
      "text/plain": [
       "RandomizedSearchCV(cv=10, estimator=LogisticRegression(), n_iter=100, n_jobs=-1,\n",
       "                   param_distributions={'C': <scipy.stats._distn_infrastructure.rv_frozen object at 0x13086ceb0>,\n",
       "                                        'penalty': ['l2', 'l1', 'elasticnet'],\n",
       "                                        'tol': <scipy.stats._distn_infrastructure.rv_frozen object at 0x1307eac70>},\n",
       "                   scoring='f1', verbose=1)"
      ]
     },
     "execution_count": 332,
     "metadata": {},
     "output_type": "execute_result"
    }
   ],
   "source": [
    "log_model_rand_search.fit(X_train[numeric_features], y_train)"
   ]
  },
  {
   "cell_type": "code",
   "execution_count": 333,
   "id": "elegant-jacob",
   "metadata": {},
   "outputs": [
    {
     "data": {
      "text/plain": [
       "{'C': 3.1369608780142615, 'penalty': 'l2', 'tol': 0.6394563946341022}"
      ]
     },
     "execution_count": 333,
     "metadata": {},
     "output_type": "execute_result"
    }
   ],
   "source": [
    "log_model_rand_search.best_params_"
   ]
  },
  {
   "cell_type": "code",
   "execution_count": 334,
   "id": "universal-lemon",
   "metadata": {},
   "outputs": [],
   "source": [
    "y_val_pred_log_model_rand_search = log_model_rand_search.predict(X_val[numeric_features])"
   ]
  },
  {
   "cell_type": "code",
   "execution_count": 335,
   "id": "fresh-fifty",
   "metadata": {},
   "outputs": [
    {
     "name": "stdout",
     "output_type": "stream",
     "text": [
      "              precision    recall  f1-score   support\n",
      "\n",
      "           0       0.70      0.67      0.68        39\n",
      "           1       0.78      0.81      0.80        58\n",
      "\n",
      "    accuracy                           0.75        97\n",
      "   macro avg       0.74      0.74      0.74        97\n",
      "weighted avg       0.75      0.75      0.75        97\n",
      "\n"
     ]
    }
   ],
   "source": [
    "print(classification_report(y_val, y_val_pred_log_model_rand_search))"
   ]
  },
  {
   "cell_type": "markdown",
   "id": "advised-moment",
   "metadata": {},
   "source": [
    "## Baseline Model"
   ]
  },
  {
   "cell_type": "code",
   "execution_count": null,
   "id": "simplified-detective",
   "metadata": {},
   "outputs": [],
   "source": []
  }
 ],
 "metadata": {
  "kernelspec": {
   "display_name": "Python 3",
   "language": "python",
   "name": "python3"
  },
  "language_info": {
   "codemirror_mode": {
    "name": "ipython",
    "version": 3
   },
   "file_extension": ".py",
   "mimetype": "text/x-python",
   "name": "python",
   "nbconvert_exporter": "python",
   "pygments_lexer": "ipython3",
   "version": "3.8.6"
  }
 },
 "nbformat": 4,
 "nbformat_minor": 5
}
