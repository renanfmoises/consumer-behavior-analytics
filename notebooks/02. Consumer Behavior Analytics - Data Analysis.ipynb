{
 "cells": [
  {
   "cell_type": "markdown",
   "id": "stupid-weapon",
   "metadata": {},
   "source": [
    "# Consumer Behavior Analytics - Data Analysis"
   ]
  },
  {
   "cell_type": "markdown",
   "id": "loose-inquiry",
   "metadata": {},
   "source": [
    "**Libraries and imports**"
   ]
  },
  {
   "cell_type": "code",
   "execution_count": 1,
   "id": "sonic-tablet",
   "metadata": {},
   "outputs": [],
   "source": [
    "# Basic libraries\n",
    "import pandas as pd\n",
    "import numpy as np\n",
    "\n",
    "# Utils\n",
    "# import lux\n",
    "# import itertools\n",
    "import datetime\n",
    "\n",
    "# DataViz libraries\n",
    "import matplotlib.pyplot as plt\n",
    "import seaborn as sns\n",
    "\n",
    "# Data libraries\n",
    "from sklearn.preprocessing import MinMaxScaler, RobustScaler\n",
    "\n",
    "# Notebook setup\n",
    "import warnings\n",
    "warnings.filterwarnings('ignore')\n",
    "\n",
    "pd.set_option('display.max_columns', None)"
   ]
  },
  {
   "cell_type": "markdown",
   "id": "broad-genesis",
   "metadata": {},
   "source": [
    "## Schedule"
   ]
  },
  {
   "cell_type": "markdown",
   "id": "grateful-debate",
   "metadata": {},
   "source": [
    "### Exploratory Data Analysis\n",
    "- Feature Engineering: discretizing and combining some variables.\n",
    "- Univariate analysis\n",
    "- Bivariate analysis"
   ]
  },
  {
   "cell_type": "markdown",
   "id": "extra-leonard",
   "metadata": {},
   "source": [
    "Let's keep an easy access to the data dictonary:\n",
    "\n",
    "<img src=\"../images/data_dict.jpg\" width=\"600\" height=\"300\">\n"
   ]
  },
  {
   "cell_type": "markdown",
   "id": "competent-reservation",
   "metadata": {},
   "source": [
    "### 0. Loading dataset"
   ]
  },
  {
   "cell_type": "code",
   "execution_count": 2,
   "id": "olive-indie",
   "metadata": {},
   "outputs": [
    {
     "data": {
      "text/html": [
       "<div>\n",
       "<style scoped>\n",
       "    .dataframe tbody tr th:only-of-type {\n",
       "        vertical-align: middle;\n",
       "    }\n",
       "\n",
       "    .dataframe tbody tr th {\n",
       "        vertical-align: top;\n",
       "    }\n",
       "\n",
       "    .dataframe thead th {\n",
       "        text-align: right;\n",
       "    }\n",
       "</style>\n",
       "<table border=\"1\" class=\"dataframe\">\n",
       "  <thead>\n",
       "    <tr style=\"text-align: right;\">\n",
       "      <th></th>\n",
       "      <th>ID</th>\n",
       "      <th>Year_Birth</th>\n",
       "      <th>Education</th>\n",
       "      <th>Marital_Status</th>\n",
       "      <th>Income</th>\n",
       "      <th>Kidhome</th>\n",
       "      <th>Teenhome</th>\n",
       "      <th>Dt_Customer</th>\n",
       "      <th>Recency</th>\n",
       "      <th>MntWines</th>\n",
       "      <th>MntFruits</th>\n",
       "      <th>MntMeatProducts</th>\n",
       "      <th>MntFishProducts</th>\n",
       "      <th>MntSweetProducts</th>\n",
       "      <th>MntGoldProds</th>\n",
       "      <th>NumDealsPurchases</th>\n",
       "      <th>NumWebPurchases</th>\n",
       "      <th>NumCatalogPurchases</th>\n",
       "      <th>NumStorePurchases</th>\n",
       "      <th>NumWebVisitsMonth</th>\n",
       "      <th>AcceptedCmp3</th>\n",
       "      <th>AcceptedCmp4</th>\n",
       "      <th>AcceptedCmp5</th>\n",
       "      <th>AcceptedCmp1</th>\n",
       "      <th>AcceptedCmp2</th>\n",
       "      <th>Complain</th>\n",
       "      <th>Response</th>\n",
       "    </tr>\n",
       "  </thead>\n",
       "  <tbody>\n",
       "    <tr>\n",
       "      <th>0</th>\n",
       "      <td>5524</td>\n",
       "      <td>1957</td>\n",
       "      <td>Graduation</td>\n",
       "      <td>Single</td>\n",
       "      <td>58138.0</td>\n",
       "      <td>0</td>\n",
       "      <td>0</td>\n",
       "      <td>2012-09-04</td>\n",
       "      <td>58</td>\n",
       "      <td>635</td>\n",
       "      <td>88</td>\n",
       "      <td>546</td>\n",
       "      <td>172</td>\n",
       "      <td>88</td>\n",
       "      <td>88</td>\n",
       "      <td>3</td>\n",
       "      <td>8</td>\n",
       "      <td>10</td>\n",
       "      <td>4</td>\n",
       "      <td>7</td>\n",
       "      <td>0</td>\n",
       "      <td>0</td>\n",
       "      <td>0</td>\n",
       "      <td>0</td>\n",
       "      <td>0</td>\n",
       "      <td>0</td>\n",
       "      <td>1</td>\n",
       "    </tr>\n",
       "    <tr>\n",
       "      <th>1</th>\n",
       "      <td>2174</td>\n",
       "      <td>1954</td>\n",
       "      <td>Graduation</td>\n",
       "      <td>Single</td>\n",
       "      <td>46344.0</td>\n",
       "      <td>1</td>\n",
       "      <td>1</td>\n",
       "      <td>2014-03-08</td>\n",
       "      <td>38</td>\n",
       "      <td>11</td>\n",
       "      <td>1</td>\n",
       "      <td>6</td>\n",
       "      <td>2</td>\n",
       "      <td>1</td>\n",
       "      <td>6</td>\n",
       "      <td>2</td>\n",
       "      <td>1</td>\n",
       "      <td>1</td>\n",
       "      <td>2</td>\n",
       "      <td>5</td>\n",
       "      <td>0</td>\n",
       "      <td>0</td>\n",
       "      <td>0</td>\n",
       "      <td>0</td>\n",
       "      <td>0</td>\n",
       "      <td>0</td>\n",
       "      <td>0</td>\n",
       "    </tr>\n",
       "    <tr>\n",
       "      <th>2</th>\n",
       "      <td>4141</td>\n",
       "      <td>1965</td>\n",
       "      <td>Graduation</td>\n",
       "      <td>Together</td>\n",
       "      <td>71613.0</td>\n",
       "      <td>0</td>\n",
       "      <td>0</td>\n",
       "      <td>2013-08-21</td>\n",
       "      <td>26</td>\n",
       "      <td>426</td>\n",
       "      <td>49</td>\n",
       "      <td>127</td>\n",
       "      <td>111</td>\n",
       "      <td>21</td>\n",
       "      <td>42</td>\n",
       "      <td>1</td>\n",
       "      <td>8</td>\n",
       "      <td>2</td>\n",
       "      <td>10</td>\n",
       "      <td>4</td>\n",
       "      <td>0</td>\n",
       "      <td>0</td>\n",
       "      <td>0</td>\n",
       "      <td>0</td>\n",
       "      <td>0</td>\n",
       "      <td>0</td>\n",
       "      <td>0</td>\n",
       "    </tr>\n",
       "    <tr>\n",
       "      <th>3</th>\n",
       "      <td>6182</td>\n",
       "      <td>1984</td>\n",
       "      <td>Graduation</td>\n",
       "      <td>Together</td>\n",
       "      <td>26646.0</td>\n",
       "      <td>1</td>\n",
       "      <td>0</td>\n",
       "      <td>2014-02-10</td>\n",
       "      <td>26</td>\n",
       "      <td>11</td>\n",
       "      <td>4</td>\n",
       "      <td>20</td>\n",
       "      <td>10</td>\n",
       "      <td>3</td>\n",
       "      <td>5</td>\n",
       "      <td>2</td>\n",
       "      <td>2</td>\n",
       "      <td>0</td>\n",
       "      <td>4</td>\n",
       "      <td>6</td>\n",
       "      <td>0</td>\n",
       "      <td>0</td>\n",
       "      <td>0</td>\n",
       "      <td>0</td>\n",
       "      <td>0</td>\n",
       "      <td>0</td>\n",
       "      <td>0</td>\n",
       "    </tr>\n",
       "    <tr>\n",
       "      <th>4</th>\n",
       "      <td>5324</td>\n",
       "      <td>1981</td>\n",
       "      <td>PhD</td>\n",
       "      <td>Married</td>\n",
       "      <td>58293.0</td>\n",
       "      <td>1</td>\n",
       "      <td>0</td>\n",
       "      <td>2014-01-19</td>\n",
       "      <td>94</td>\n",
       "      <td>173</td>\n",
       "      <td>43</td>\n",
       "      <td>118</td>\n",
       "      <td>46</td>\n",
       "      <td>27</td>\n",
       "      <td>15</td>\n",
       "      <td>5</td>\n",
       "      <td>5</td>\n",
       "      <td>3</td>\n",
       "      <td>6</td>\n",
       "      <td>5</td>\n",
       "      <td>0</td>\n",
       "      <td>0</td>\n",
       "      <td>0</td>\n",
       "      <td>0</td>\n",
       "      <td>0</td>\n",
       "      <td>0</td>\n",
       "      <td>0</td>\n",
       "    </tr>\n",
       "  </tbody>\n",
       "</table>\n",
       "</div>"
      ],
      "text/plain": [
       "     ID  Year_Birth   Education Marital_Status   Income  Kidhome  Teenhome  \\\n",
       "0  5524        1957  Graduation         Single  58138.0        0         0   \n",
       "1  2174        1954  Graduation         Single  46344.0        1         1   \n",
       "2  4141        1965  Graduation       Together  71613.0        0         0   \n",
       "3  6182        1984  Graduation       Together  26646.0        1         0   \n",
       "4  5324        1981         PhD        Married  58293.0        1         0   \n",
       "\n",
       "  Dt_Customer  Recency  MntWines  MntFruits  MntMeatProducts  MntFishProducts  \\\n",
       "0  2012-09-04       58       635         88              546              172   \n",
       "1  2014-03-08       38        11          1                6                2   \n",
       "2  2013-08-21       26       426         49              127              111   \n",
       "3  2014-02-10       26        11          4               20               10   \n",
       "4  2014-01-19       94       173         43              118               46   \n",
       "\n",
       "   MntSweetProducts  MntGoldProds  NumDealsPurchases  NumWebPurchases  \\\n",
       "0                88            88                  3                8   \n",
       "1                 1             6                  2                1   \n",
       "2                21            42                  1                8   \n",
       "3                 3             5                  2                2   \n",
       "4                27            15                  5                5   \n",
       "\n",
       "   NumCatalogPurchases  NumStorePurchases  NumWebVisitsMonth  AcceptedCmp3  \\\n",
       "0                   10                  4                  7             0   \n",
       "1                    1                  2                  5             0   \n",
       "2                    2                 10                  4             0   \n",
       "3                    0                  4                  6             0   \n",
       "4                    3                  6                  5             0   \n",
       "\n",
       "   AcceptedCmp4  AcceptedCmp5  AcceptedCmp1  AcceptedCmp2  Complain  Response  \n",
       "0             0             0             0             0         0         1  \n",
       "1             0             0             0             0         0         0  \n",
       "2             0             0             0             0         0         0  \n",
       "3             0             0             0             0         0         0  \n",
       "4             0             0             0             0         0         0  "
      ]
     },
     "execution_count": 2,
     "metadata": {},
     "output_type": "execute_result"
    }
   ],
   "source": [
    "ccustomers = pd.read_csv('../data/customers_cleaned.csv') # ccustomers: cleaned customers \n",
    "ccustomers.head()"
   ]
  },
  {
   "cell_type": "code",
   "execution_count": 3,
   "id": "meaningful-fireplace",
   "metadata": {},
   "outputs": [
    {
     "data": {
      "text/plain": [
       "(2233, 27)"
      ]
     },
     "execution_count": 3,
     "metadata": {},
     "output_type": "execute_result"
    }
   ],
   "source": [
    "ccustomers.shape"
   ]
  },
  {
   "cell_type": "markdown",
   "id": "severe-resource",
   "metadata": {},
   "source": [
    "Since we will be using `Dt_Customer` for Feature Engineering, let's check the type of the date with `dtypes`."
   ]
  },
  {
   "cell_type": "code",
   "execution_count": 4,
   "id": "laden-anaheim",
   "metadata": {},
   "outputs": [
    {
     "data": {
      "text/plain": [
       "dtype('O')"
      ]
     },
     "execution_count": 4,
     "metadata": {},
     "output_type": "execute_result"
    }
   ],
   "source": [
    "ccustomers['Dt_Customer'].dtypes"
   ]
  },
  {
   "cell_type": "markdown",
   "id": "engaged-battlefield",
   "metadata": {},
   "source": [
    "As an `object` (pandas way to say `str`) we won't be able to perform date operations. We need to transform it into a `datetime` object."
   ]
  },
  {
   "cell_type": "code",
   "execution_count": 5,
   "id": "consistent-reform",
   "metadata": {},
   "outputs": [],
   "source": [
    "# Transforming Dt_Customer variable into a python datetime object\n",
    "ccustomers['Dt_Customer'] = pd.to_datetime(ccustomers['Dt_Customer'])"
   ]
  },
  {
   "cell_type": "markdown",
   "id": "thick-humanitarian",
   "metadata": {},
   "source": [
    "We are all set. Let's mix some data."
   ]
  },
  {
   "cell_type": "markdown",
   "id": "shared-avenue",
   "metadata": {},
   "source": [
    "## 1. Feature Engineering"
   ]
  },
  {
   "cell_type": "markdown",
   "id": "hourly-newcastle",
   "metadata": {},
   "source": [
    "Looking back at the Data Dictionary we can list some operations that might result interesting:\n",
    "\n",
    "- Transform `Year_Birth` in `Age`."
   ]
  },
  {
   "cell_type": "markdown",
   "id": "accessible-florence",
   "metadata": {},
   "source": [
    "### 1.1 Creating `Age` variable"
   ]
  },
  {
   "cell_type": "code",
   "execution_count": 6,
   "id": "yellow-retailer",
   "metadata": {},
   "outputs": [
    {
     "data": {
      "text/plain": [
       "(2233, 27)"
      ]
     },
     "execution_count": 6,
     "metadata": {},
     "output_type": "execute_result"
    }
   ],
   "source": [
    "ccustomers.shape"
   ]
  },
  {
   "cell_type": "markdown",
   "id": "global-champion",
   "metadata": {},
   "source": [
    "If we knew that the dataset was sampled in 2014 (the most recent date a customer become a client in our dataset, considering information from `Dt_Customer` variable) we could simply calculate:\n",
    "\n",
    "\\begin{align}\n",
    "   2014 - \\verb|Birth_Year|\n",
    "\\end{align}\n",
    "\n",
    "But as for the information we have right now, we do not know when the dataset was sampled. Therefore we can't simply calcuate the difference between the dates.\n",
    "\n",
    "**We need to determine when the dataset was sampled**, then.\n",
    "\n",
    "The dataset, as instructed, is a _random sample_ of _hundreds of thousands_ of clients in the database, and our sample size, after cleaning, consists of 2,233 customers (which is an enourmous sample size if we want statisticly significant results).\n",
    "\n",
    "\n",
    "<div class=\"alert alert-block alert-warning\">\n",
    "<b>Disclaimer:</b> This is a great example of how basic things, that could've been solved with a phone call to the owner of the dataset, can get unnecessarily tricky and can get in the way of the <i>real</i> analysis, specially if we are considering a <b>deadline</b>. For this reason, I'll move forward with some assumptions but I've decided to supress all the mathematical bureocracy of testing.\n",
    "</div>\n",
    "\n",
    "Since our sample is big enough, and we are assuming that it is random, we expect to see that the sample distribution of customers entrance in the company at a time $t$ (month, week, day, etc.) follows the population distribution. \n",
    "\n",
    "For exemple, if the company has a constant growth rate of clients aquisition, then the clients entrance to the company has a Uniform distribution. In other words, if on avergage $x$ people becomes a customer in $t$ time, then we should expect that the last period $t$ is the one when the dataset was sampled. "
   ]
  },
  {
   "cell_type": "markdown",
   "id": "attractive-destination",
   "metadata": {},
   "source": [
    "In order to get the sample distribution of clients entrance (without abandoning scientific rigour) we need to investigate the time span of our data.\n",
    "\n",
    "**Getting data time span**"
   ]
  },
  {
   "cell_type": "code",
   "execution_count": 7,
   "id": "accessory-accused",
   "metadata": {},
   "outputs": [
    {
     "name": "stdout",
     "output_type": "stream",
     "text": [
      "First date in our sample dataset is:  30-07-2012\n",
      "Last  date in our sample dataset is:  29-06-2014\n",
      "\n",
      "Our data spans throughout 23.0 months (equivalent to 100.0 weeks).\n"
     ]
    }
   ],
   "source": [
    "min_date, max_date = ccustomers['Dt_Customer'].min().strftime('%d-%m-%Y'), \\\n",
    "                            ccustomers['Dt_Customer'].dt.date.max().strftime('%d-%m-%Y')\n",
    "\n",
    "print('First date in our sample dataset is: ', min_date)\n",
    "print('Last  date in our sample dataset is: ', max_date)\n",
    "\n",
    "# Calculating timespan from max_date and min_date\n",
    "span_df_months = (pd.to_datetime(max_date) - pd.to_datetime(min_date)) / np.timedelta64(1, 'M')\n",
    "span_df_weeks = (pd.to_datetime(max_date) - pd.to_datetime(min_date)) / np.timedelta64(1, 'W')\n",
    "\n",
    "print(f'\\nOur data spans throughout {np.ceil(span_df_months)} months (equivalent to {np.ceil(span_df_weeks)} weeks).')"
   ]
  },
  {
   "cell_type": "code",
   "execution_count": 8,
   "id": "laden-pittsburgh",
   "metadata": {},
   "outputs": [],
   "source": [
    "# ccustomers['Marital_Status'].value_counts().plot(kind = 'bar')"
   ]
  },
  {
   "cell_type": "code",
   "execution_count": 9,
   "id": "romance-conditioning",
   "metadata": {},
   "outputs": [],
   "source": [
    "# Create dataset with features of interest\n",
    "age_analysis = ccustomers[['Year_Birth', 'Dt_Customer', 'Recency']]\n",
    "\n",
    "# Parse dates to Year-Month\n",
    "age_analysis['year_month'] = ccustomers['Dt_Customer'].dt.strftime('%Y-%m')\n",
    "age_analysis['year_week'] = ccustomers['Dt_Customer'].dt.strftime('%Y-%V') # Caution working with weekly aggregations!"
   ]
  },
  {
   "cell_type": "markdown",
   "id": "rational-equipment",
   "metadata": {},
   "source": [
    "Weekly aggregations tend to get wild for weeks between years. Let's check:"
   ]
  },
  {
   "cell_type": "code",
   "execution_count": 10,
   "id": "accredited-figure",
   "metadata": {},
   "outputs": [
    {
     "data": {
      "text/plain": [
       "array([1691,   36,  477,  747,  924, 1199, 1373])"
      ]
     },
     "execution_count": 10,
     "metadata": {},
     "output_type": "execute_result"
    }
   ],
   "source": [
    "# Looping to get wrong weekly aggregations indexes \n",
    "is_weeklyagg_broken = []\n",
    "for year in [2012, 2013, 2014]:\n",
    "    is_broken = age_analysis[(age_analysis['year_month'] == f'{year}-12') & \\\n",
    "                             (age_analysis['year_week'] == f'{year}-01')] # If month = 12, then week cannot = 01\n",
    "    is_weeklyagg_broken.append(is_broken.index.values)\n",
    "    \n",
    "# Seing indexes of broken weekly agg data \n",
    "is_weeklyagg_broken = np.hstack(is_weeklyagg_broken).squeeze()\n",
    "is_weeklyagg_broken"
   ]
  },
  {
   "cell_type": "code",
   "execution_count": 18,
   "id": "indoor-corner",
   "metadata": {},
   "outputs": [],
   "source": [
    "# Reviewing entries with broken weekly agg\n",
    "# age_analysis.loc[is_weeklyagg_broken] # Uncomment for dataset view"
   ]
  },
  {
   "cell_type": "code",
   "execution_count": 19,
   "id": "mature-panic",
   "metadata": {},
   "outputs": [],
   "source": [
    "# Changing values to its correct counterparts\n",
    "age_analysis['year_week'].iloc[is_weeklyagg_broken] = \\\n",
    "        age_analysis['year_week'].iloc[is_weeklyagg_broken].map({'2012-01': '2012-52', '2013-01': '2013-52'})\n",
    "\n",
    "# Reviwing after change\n",
    "# age_analysis.loc[is_weeklyagg_broken] # Uncomment for dataset view"
   ]
  },
  {
   "cell_type": "markdown",
   "id": "neutral-current",
   "metadata": {},
   "source": [
    "Now that all date entries are correct, let's group them by `year_month` and `year_week`. These grouping will be necessary for checking clients' entrance distribution."
   ]
  },
  {
   "cell_type": "code",
   "execution_count": 20,
   "id": "danish-convenience",
   "metadata": {},
   "outputs": [],
   "source": [
    "# Group data by Year-Month and by Year-Week\n",
    "age_analysis_grouped_month_year = age_analysis.groupby(by = 'year_month').count()\n",
    "age_analysis_grouped_week_year = age_analysis.groupby(by = 'year_week').count()"
   ]
  },
  {
   "cell_type": "markdown",
   "id": "desperate-peeing",
   "metadata": {},
   "source": [
    "**Let's plot both `year_month` and `year_week` distributions:**"
   ]
  },
  {
   "cell_type": "code",
   "execution_count": 21,
   "id": "naked-alpha",
   "metadata": {},
   "outputs": [
    {
     "data": {
      "image/png": "[encoded data removed]",
      "text/plain": [
       "<Figure size 1224x720 with 2 Axes>"
      ]
     },
     "metadata": {
      "needs_background": "dark"
     },
     "output_type": "display_data"
    }
   ],
   "source": [
    "# Setting up plots\n",
    "fig, ax = plt.subplots(2, 1, figsize = (17, 10))\n",
    "sns.despine(top = True, left = True)\n",
    "\n",
    "# Plot Year-Month Distribution\n",
    "sns.barplot(x = age_analysis_grouped_month_year.index, \n",
    "            y = age_analysis_grouped_month_year['Year_Birth'], \n",
    "            ax = ax[0], \n",
    "            color = 'red')\n",
    "ax[0].set(ylabel = None, xlabel = None)\n",
    "ax[0].set_title('Client entrance by Year-Month', loc = 'left', size = 18, \n",
    "                pad = 30, fontweight = 'bold', fontname = 'Arial', color = 'gray')\n",
    "ax[0].spines['bottom'].set_color('lightgray')\n",
    "ax[0].xaxis.label.set_color('gray')\n",
    "ax[0].tick_params(axis='both', colors='gray', rotation = 45)\n",
    "\n",
    "# Plot Year-Year_week Distribution\n",
    "sns.barplot(x = age_analysis_grouped_week_year.index, \n",
    "            y = age_analysis_grouped_week_year['Year_Birth'], \n",
    "            ax = ax[1],\n",
    "            color = 'red')\n",
    "ax[1].set_title('Client entrance by Year-Week',  loc = 'left', size = 18, \n",
    "                pad = 30, fontweight = 'bold', fontname = 'Arial', color = 'gray')\n",
    "ax[1].set(ylabel = None, xlabel = None)\n",
    "ax[1].spines['bottom'].set_color('lightgray')\n",
    "ax[1].xaxis.label.set_color('gray')\n",
    "ax[1].tick_params(axis='both', colors='gray')\n",
    "plt.xticks(np.arange(0, len(age_analysis_grouped_week_year.index), step = 5), \n",
    "           rotation = 45)\n",
    "\n",
    "plt.tight_layout(h_pad = 2);"
   ]
  },
  {
   "cell_type": "markdown",
   "id": "classical-filter",
   "metadata": {},
   "source": [
    "As imagined, the aggregated data follows an Uniform distribution. If the company hasn't compromised itself in a _really bad way_ to the eyes of the public, and knowing it hasn't closed its doors (otherwise we probably wouldn't be working on this analysis), by the following months, we should expect that the numbers of customers joining the company as a client to be arround average of client entrances in the previous months. \n",
    "\n",
    "Straghtfowardly, it is highly unlikelly that no new person became a company's client after june 2014.\n",
    "\n",
    "How's so?\n",
    "\n",
    "If the sample is randon and the company is not seriously comprimised, and having a sample with 2,233 individuals, the probability of **not selecting a single one** of them who would've entered the data after june 2014 when sampling is really, really low.\n",
    "\n",
    "In fact, we can say with $99 \\%$ confidence (and margin of error of $\\approx 2.7 \\%$) that this sample would represent the actual population parameters, considering a population of $999,999$ individuals (the maximum in _hundreds of thousands_ as described in the guidelines of this project). As a reference, we can check the image below, from [Suvey Monkey's Sample Size Calculator](https://www.surveymonkey.com/mp/sample-size-calculator/).\n",
    "\n",
    "<img src=\"../images/survey_monkey.jpg\" width=\"800\" height=\"400\">"
   ]
  },
  {
   "cell_type": "markdown",
   "id": "stock-cameroon",
   "metadata": {},
   "source": [
    "### **But...**\n",
    "\n",
    "Before moving forward to set 2014 as the date the dataset was sampled, and then compute the age of the customers, there's still one piece of this puzzle which is outstanding and could be used for an integrity checkup.\n",
    "\n",
    "The variable `Recency`, as described in our data dictionary, is the amount of days since a customer's last purchase. In theory, with our previous assumptions made, we should not have a client that entered in June 2014, having a purchased something several days before our dataset being sampled.\n",
    "\n",
    "Let's check:"
   ]
  },
  {
   "cell_type": "code",
   "execution_count": 26,
   "id": "lonely-protocol",
   "metadata": {},
   "outputs": [
    {
     "data": {
      "text/html": [
       "<div>\n",
       "<style scoped>\n",
       "    .dataframe tbody tr th:only-of-type {\n",
       "        vertical-align: middle;\n",
       "    }\n",
       "\n",
       "    .dataframe tbody tr th {\n",
       "        vertical-align: top;\n",
       "    }\n",
       "\n",
       "    .dataframe thead th {\n",
       "        text-align: right;\n",
       "    }\n",
       "</style>\n",
       "<table border=\"1\" class=\"dataframe\">\n",
       "  <thead>\n",
       "    <tr style=\"text-align: right;\">\n",
       "      <th></th>\n",
       "      <th>ID</th>\n",
       "      <th>Year_Birth</th>\n",
       "      <th>Education</th>\n",
       "      <th>Marital_Status</th>\n",
       "      <th>Income</th>\n",
       "      <th>Kidhome</th>\n",
       "      <th>Teenhome</th>\n",
       "      <th>Dt_Customer</th>\n",
       "      <th>Recency</th>\n",
       "      <th>MntWines</th>\n",
       "      <th>MntFruits</th>\n",
       "      <th>MntMeatProducts</th>\n",
       "      <th>MntFishProducts</th>\n",
       "      <th>MntSweetProducts</th>\n",
       "      <th>MntGoldProds</th>\n",
       "      <th>NumDealsPurchases</th>\n",
       "      <th>NumWebPurchases</th>\n",
       "      <th>NumCatalogPurchases</th>\n",
       "      <th>NumStorePurchases</th>\n",
       "      <th>NumWebVisitsMonth</th>\n",
       "      <th>AcceptedCmp3</th>\n",
       "      <th>AcceptedCmp4</th>\n",
       "      <th>AcceptedCmp5</th>\n",
       "      <th>AcceptedCmp1</th>\n",
       "      <th>AcceptedCmp2</th>\n",
       "      <th>Complain</th>\n",
       "      <th>Response</th>\n",
       "    </tr>\n",
       "  </thead>\n",
       "  <tbody>\n",
       "    <tr>\n",
       "      <th>1797</th>\n",
       "      <td>2831</td>\n",
       "      <td>1976</td>\n",
       "      <td>Graduation</td>\n",
       "      <td>Together</td>\n",
       "      <td>78416.0</td>\n",
       "      <td>0</td>\n",
       "      <td>1</td>\n",
       "      <td>2014-06-27</td>\n",
       "      <td>99</td>\n",
       "      <td>453</td>\n",
       "      <td>38</td>\n",
       "      <td>279</td>\n",
       "      <td>188</td>\n",
       "      <td>38</td>\n",
       "      <td>183</td>\n",
       "      <td>2</td>\n",
       "      <td>7</td>\n",
       "      <td>7</td>\n",
       "      <td>10</td>\n",
       "      <td>3</td>\n",
       "      <td>0</td>\n",
       "      <td>0</td>\n",
       "      <td>0</td>\n",
       "      <td>0</td>\n",
       "      <td>0</td>\n",
       "      <td>0</td>\n",
       "      <td>0</td>\n",
       "    </tr>\n",
       "  </tbody>\n",
       "</table>\n",
       "</div>"
      ],
      "text/plain": [
       "        ID  Year_Birth   Education Marital_Status   Income  Kidhome  Teenhome  \\\n",
       "1797  2831        1976  Graduation       Together  78416.0        0         1   \n",
       "\n",
       "     Dt_Customer  Recency  MntWines  MntFruits  MntMeatProducts  \\\n",
       "1797  2014-06-27       99       453         38              279   \n",
       "\n",
       "      MntFishProducts  MntSweetProducts  MntGoldProds  NumDealsPurchases  \\\n",
       "1797              188                38           183                  2   \n",
       "\n",
       "      NumWebPurchases  NumCatalogPurchases  NumStorePurchases  \\\n",
       "1797                7                    7                 10   \n",
       "\n",
       "      NumWebVisitsMonth  AcceptedCmp3  AcceptedCmp4  AcceptedCmp5  \\\n",
       "1797                  3             0             0             0   \n",
       "\n",
       "      AcceptedCmp1  AcceptedCmp2  Complain  Response  \n",
       "1797             0             0         0         0  "
      ]
     },
     "execution_count": 26,
     "metadata": {},
     "output_type": "execute_result"
    }
   ],
   "source": [
    "ccustomers[ccustomers['Recency'] == ccustomers['Recency'].max()].sort_values('Dt_Customer', ascending = False).head(1)"
   ]
  },
  {
   "cell_type": "markdown",
   "id": "timely-lexington",
   "metadata": {},
   "source": [
    "The customer with `ID` #2831 joined the the company as a client in June 2014 and his/hers last purchase was 99 days before the sampling!\n",
    "\n",
    "\n",
    "<div class=\"alert alert-block alert-danger\">\n",
    "This is a huge compromise for the statistical analysis we just performed. Mainly, because we've statistcly proved that, everything kept constant, customers kept joining the company and none of them being select just means that our sample dataset <b>was not random <i>at all</i></b>.\n",
    "</div>\n",
    "\n",
    "Maybe, for some unkown reason, clients who've joined the company after June 2014 would be more propense to buy the device. Unfortunatelly, we won't be able to study this fenomena and therefore our analysis, and, by the way, our modeling, is enclosed in the time span of our sampling.\n",
    "\n",
    "The results of our future model just gained a prefix introduction:\n",
    "\n",
    ">— **_For clients who've joined the company until June 2014_** our model's performance is xxx.\n",
    "\n",
    "Obviously, at some extent the model might be able to classify pretty well the _persona_ of those customer's who might be interested in purchasing the device, even for those who joined after June 2014. But it may as well go really bad, for these customers, when the model is in production. We cannot say, because we do not have the data to analyze.\n",
    "\n",
    "At this point of the analysis, I would suggest a meeting with Research and Experiment Design department so everyone can be on the same page regarding what is random sampling and what are the implications when these conditions are not met."
   ]
  },
  {
   "cell_type": "code",
   "execution_count": 27,
   "id": "combined-candle",
   "metadata": {},
   "outputs": [
    {
     "data": {
      "text/plain": [
       "Timestamp('2014-06-29 00:00:00')"
      ]
     },
     "execution_count": 27,
     "metadata": {},
     "output_type": "execute_result"
    }
   ],
   "source": [
    "ccustomers['Dt_Customer'].max()"
   ]
  },
  {
   "cell_type": "markdown",
   "id": "robust-charleston",
   "metadata": {},
   "source": [
    "#### (Finally) Let's calculate `Age`\n",
    "\n",
    "Since we could not determine the date the dataset was generated, let's arbitrarly choose 2014 as the age of the dataset. $June \\: 29^{th}, \\: 2014 \\: + \\: 99 \\: days$ would be still year 2014 and this is the closest information we have about a possible date of the dataset date cut. "
   ]
  },
  {
   "cell_type": "code",
   "execution_count": 28,
   "id": "acting-resource",
   "metadata": {},
   "outputs": [
    {
     "data": {
      "text/html": [
       "<div>\n",
       "<style scoped>\n",
       "    .dataframe tbody tr th:only-of-type {\n",
       "        vertical-align: middle;\n",
       "    }\n",
       "\n",
       "    .dataframe tbody tr th {\n",
       "        vertical-align: top;\n",
       "    }\n",
       "\n",
       "    .dataframe thead th {\n",
       "        text-align: right;\n",
       "    }\n",
       "</style>\n",
       "<table border=\"1\" class=\"dataframe\">\n",
       "  <thead>\n",
       "    <tr style=\"text-align: right;\">\n",
       "      <th></th>\n",
       "      <th>ID</th>\n",
       "      <th>Year_Birth</th>\n",
       "      <th>Education</th>\n",
       "      <th>Marital_Status</th>\n",
       "      <th>Income</th>\n",
       "      <th>Kidhome</th>\n",
       "      <th>Teenhome</th>\n",
       "      <th>Dt_Customer</th>\n",
       "      <th>Recency</th>\n",
       "      <th>MntWines</th>\n",
       "      <th>MntFruits</th>\n",
       "      <th>MntMeatProducts</th>\n",
       "      <th>MntFishProducts</th>\n",
       "      <th>MntSweetProducts</th>\n",
       "      <th>MntGoldProds</th>\n",
       "      <th>NumDealsPurchases</th>\n",
       "      <th>NumWebPurchases</th>\n",
       "      <th>NumCatalogPurchases</th>\n",
       "      <th>NumStorePurchases</th>\n",
       "      <th>NumWebVisitsMonth</th>\n",
       "      <th>AcceptedCmp3</th>\n",
       "      <th>AcceptedCmp4</th>\n",
       "      <th>AcceptedCmp5</th>\n",
       "      <th>AcceptedCmp1</th>\n",
       "      <th>AcceptedCmp2</th>\n",
       "      <th>Complain</th>\n",
       "      <th>Response</th>\n",
       "      <th>Age</th>\n",
       "    </tr>\n",
       "  </thead>\n",
       "  <tbody>\n",
       "    <tr>\n",
       "      <th>0</th>\n",
       "      <td>5524</td>\n",
       "      <td>1957</td>\n",
       "      <td>Graduation</td>\n",
       "      <td>Single</td>\n",
       "      <td>58138.0</td>\n",
       "      <td>0</td>\n",
       "      <td>0</td>\n",
       "      <td>2012-09-04</td>\n",
       "      <td>58</td>\n",
       "      <td>635</td>\n",
       "      <td>88</td>\n",
       "      <td>546</td>\n",
       "      <td>172</td>\n",
       "      <td>88</td>\n",
       "      <td>88</td>\n",
       "      <td>3</td>\n",
       "      <td>8</td>\n",
       "      <td>10</td>\n",
       "      <td>4</td>\n",
       "      <td>7</td>\n",
       "      <td>0</td>\n",
       "      <td>0</td>\n",
       "      <td>0</td>\n",
       "      <td>0</td>\n",
       "      <td>0</td>\n",
       "      <td>0</td>\n",
       "      <td>1</td>\n",
       "      <td>57</td>\n",
       "    </tr>\n",
       "    <tr>\n",
       "      <th>1</th>\n",
       "      <td>2174</td>\n",
       "      <td>1954</td>\n",
       "      <td>Graduation</td>\n",
       "      <td>Single</td>\n",
       "      <td>46344.0</td>\n",
       "      <td>1</td>\n",
       "      <td>1</td>\n",
       "      <td>2014-03-08</td>\n",
       "      <td>38</td>\n",
       "      <td>11</td>\n",
       "      <td>1</td>\n",
       "      <td>6</td>\n",
       "      <td>2</td>\n",
       "      <td>1</td>\n",
       "      <td>6</td>\n",
       "      <td>2</td>\n",
       "      <td>1</td>\n",
       "      <td>1</td>\n",
       "      <td>2</td>\n",
       "      <td>5</td>\n",
       "      <td>0</td>\n",
       "      <td>0</td>\n",
       "      <td>0</td>\n",
       "      <td>0</td>\n",
       "      <td>0</td>\n",
       "      <td>0</td>\n",
       "      <td>0</td>\n",
       "      <td>60</td>\n",
       "    </tr>\n",
       "    <tr>\n",
       "      <th>2</th>\n",
       "      <td>4141</td>\n",
       "      <td>1965</td>\n",
       "      <td>Graduation</td>\n",
       "      <td>Together</td>\n",
       "      <td>71613.0</td>\n",
       "      <td>0</td>\n",
       "      <td>0</td>\n",
       "      <td>2013-08-21</td>\n",
       "      <td>26</td>\n",
       "      <td>426</td>\n",
       "      <td>49</td>\n",
       "      <td>127</td>\n",
       "      <td>111</td>\n",
       "      <td>21</td>\n",
       "      <td>42</td>\n",
       "      <td>1</td>\n",
       "      <td>8</td>\n",
       "      <td>2</td>\n",
       "      <td>10</td>\n",
       "      <td>4</td>\n",
       "      <td>0</td>\n",
       "      <td>0</td>\n",
       "      <td>0</td>\n",
       "      <td>0</td>\n",
       "      <td>0</td>\n",
       "      <td>0</td>\n",
       "      <td>0</td>\n",
       "      <td>49</td>\n",
       "    </tr>\n",
       "    <tr>\n",
       "      <th>3</th>\n",
       "      <td>6182</td>\n",
       "      <td>1984</td>\n",
       "      <td>Graduation</td>\n",
       "      <td>Together</td>\n",
       "      <td>26646.0</td>\n",
       "      <td>1</td>\n",
       "      <td>0</td>\n",
       "      <td>2014-02-10</td>\n",
       "      <td>26</td>\n",
       "      <td>11</td>\n",
       "      <td>4</td>\n",
       "      <td>20</td>\n",
       "      <td>10</td>\n",
       "      <td>3</td>\n",
       "      <td>5</td>\n",
       "      <td>2</td>\n",
       "      <td>2</td>\n",
       "      <td>0</td>\n",
       "      <td>4</td>\n",
       "      <td>6</td>\n",
       "      <td>0</td>\n",
       "      <td>0</td>\n",
       "      <td>0</td>\n",
       "      <td>0</td>\n",
       "      <td>0</td>\n",
       "      <td>0</td>\n",
       "      <td>0</td>\n",
       "      <td>30</td>\n",
       "    </tr>\n",
       "    <tr>\n",
       "      <th>4</th>\n",
       "      <td>5324</td>\n",
       "      <td>1981</td>\n",
       "      <td>PhD</td>\n",
       "      <td>Married</td>\n",
       "      <td>58293.0</td>\n",
       "      <td>1</td>\n",
       "      <td>0</td>\n",
       "      <td>2014-01-19</td>\n",
       "      <td>94</td>\n",
       "      <td>173</td>\n",
       "      <td>43</td>\n",
       "      <td>118</td>\n",
       "      <td>46</td>\n",
       "      <td>27</td>\n",
       "      <td>15</td>\n",
       "      <td>5</td>\n",
       "      <td>5</td>\n",
       "      <td>3</td>\n",
       "      <td>6</td>\n",
       "      <td>5</td>\n",
       "      <td>0</td>\n",
       "      <td>0</td>\n",
       "      <td>0</td>\n",
       "      <td>0</td>\n",
       "      <td>0</td>\n",
       "      <td>0</td>\n",
       "      <td>0</td>\n",
       "      <td>33</td>\n",
       "    </tr>\n",
       "  </tbody>\n",
       "</table>\n",
       "</div>"
      ],
      "text/plain": [
       "     ID  Year_Birth   Education Marital_Status   Income  Kidhome  Teenhome  \\\n",
       "0  5524        1957  Graduation         Single  58138.0        0         0   \n",
       "1  2174        1954  Graduation         Single  46344.0        1         1   \n",
       "2  4141        1965  Graduation       Together  71613.0        0         0   \n",
       "3  6182        1984  Graduation       Together  26646.0        1         0   \n",
       "4  5324        1981         PhD        Married  58293.0        1         0   \n",
       "\n",
       "  Dt_Customer  Recency  MntWines  MntFruits  MntMeatProducts  MntFishProducts  \\\n",
       "0  2012-09-04       58       635         88              546              172   \n",
       "1  2014-03-08       38        11          1                6                2   \n",
       "2  2013-08-21       26       426         49              127              111   \n",
       "3  2014-02-10       26        11          4               20               10   \n",
       "4  2014-01-19       94       173         43              118               46   \n",
       "\n",
       "   MntSweetProducts  MntGoldProds  NumDealsPurchases  NumWebPurchases  \\\n",
       "0                88            88                  3                8   \n",
       "1                 1             6                  2                1   \n",
       "2                21            42                  1                8   \n",
       "3                 3             5                  2                2   \n",
       "4                27            15                  5                5   \n",
       "\n",
       "   NumCatalogPurchases  NumStorePurchases  NumWebVisitsMonth  AcceptedCmp3  \\\n",
       "0                   10                  4                  7             0   \n",
       "1                    1                  2                  5             0   \n",
       "2                    2                 10                  4             0   \n",
       "3                    0                  4                  6             0   \n",
       "4                    3                  6                  5             0   \n",
       "\n",
       "   AcceptedCmp4  AcceptedCmp5  AcceptedCmp1  AcceptedCmp2  Complain  Response  \\\n",
       "0             0             0             0             0         0         1   \n",
       "1             0             0             0             0         0         0   \n",
       "2             0             0             0             0         0         0   \n",
       "3             0             0             0             0         0         0   \n",
       "4             0             0             0             0         0         0   \n",
       "\n",
       "   Age  \n",
       "0   57  \n",
       "1   60  \n",
       "2   49  \n",
       "3   30  \n",
       "4   33  "
      ]
     },
     "execution_count": 28,
     "metadata": {},
     "output_type": "execute_result"
    }
   ],
   "source": [
    "# Creating Age variable\n",
    "ccustomers['Age'] = 2014 - ccustomers['Year_Birth']\n",
    "\n",
    "ccustomers.head()"
   ]
  },
  {
   "cell_type": "code",
   "execution_count": 34,
   "id": "representative-state",
   "metadata": {},
   "outputs": [
    {
     "data": {
      "image/png": "[encoded data removed]",
      "text/plain": [
       "<Figure size 432x288 with 1 Axes>"
      ]
     },
     "metadata": {
      "needs_background": "light"
     },
     "output_type": "display_data"
    }
   ],
   "source": [
    "sns.distplot(ccustomers['Age']);"
   ]
  },
  {
   "cell_type": "code",
   "execution_count": 40,
   "id": "breathing-haven",
   "metadata": {},
   "outputs": [
    {
     "data": {
      "text/plain": [
       "0    1288\n",
       "1     897\n",
       "2      48\n",
       "Name: Kidhome, dtype: int64"
      ]
     },
     "execution_count": 40,
     "metadata": {},
     "output_type": "execute_result"
    }
   ],
   "source": [
    "ccustomers['Kidhome'].value_counts()"
   ]
  },
  {
   "cell_type": "code",
   "execution_count": 50,
   "id": "violent-winner",
   "metadata": {},
   "outputs": [
    {
     "data": {
      "text/plain": [
       "0       58138.0\n",
       "1       46344.0\n",
       "2       71613.0\n",
       "3       26646.0\n",
       "4       58293.0\n",
       "         ...   \n",
       "2228    61223.0\n",
       "2229    64014.0\n",
       "2230    56981.0\n",
       "2231    69245.0\n",
       "2232    52869.0\n",
       "Name: Income, Length: 2233, dtype: float64"
      ]
     },
     "execution_count": 50,
     "metadata": {},
     "output_type": "execute_result"
    }
   ],
   "source": [
    "ccustomers['Income'] "
   ]
  },
  {
   "cell_type": "code",
   "execution_count": 53,
   "id": "objective-volunteer",
   "metadata": {},
   "outputs": [
    {
     "data": {
      "text/html": [
       "<div>\n",
       "<style scoped>\n",
       "    .dataframe tbody tr th:only-of-type {\n",
       "        vertical-align: middle;\n",
       "    }\n",
       "\n",
       "    .dataframe tbody tr th {\n",
       "        vertical-align: top;\n",
       "    }\n",
       "\n",
       "    .dataframe thead th {\n",
       "        text-align: right;\n",
       "    }\n",
       "</style>\n",
       "<table border=\"1\" class=\"dataframe\">\n",
       "  <thead>\n",
       "    <tr style=\"text-align: right;\">\n",
       "      <th></th>\n",
       "      <th>ID</th>\n",
       "      <th>Year_Birth</th>\n",
       "      <th>Education</th>\n",
       "      <th>Marital_Status</th>\n",
       "      <th>Income</th>\n",
       "      <th>Kidhome</th>\n",
       "      <th>Teenhome</th>\n",
       "      <th>Dt_Customer</th>\n",
       "      <th>Recency</th>\n",
       "      <th>MntWines</th>\n",
       "      <th>MntFruits</th>\n",
       "      <th>MntMeatProducts</th>\n",
       "      <th>MntFishProducts</th>\n",
       "      <th>MntSweetProducts</th>\n",
       "      <th>MntGoldProds</th>\n",
       "      <th>NumDealsPurchases</th>\n",
       "      <th>NumWebPurchases</th>\n",
       "      <th>NumCatalogPurchases</th>\n",
       "      <th>NumStorePurchases</th>\n",
       "      <th>NumWebVisitsMonth</th>\n",
       "      <th>AcceptedCmp3</th>\n",
       "      <th>AcceptedCmp4</th>\n",
       "      <th>AcceptedCmp5</th>\n",
       "      <th>AcceptedCmp1</th>\n",
       "      <th>AcceptedCmp2</th>\n",
       "      <th>Complain</th>\n",
       "      <th>Response</th>\n",
       "      <th>Age</th>\n",
       "      <th>Income_PerCap</th>\n",
       "    </tr>\n",
       "  </thead>\n",
       "  <tbody>\n",
       "    <tr>\n",
       "      <th>0</th>\n",
       "      <td>5524</td>\n",
       "      <td>1957</td>\n",
       "      <td>Graduation</td>\n",
       "      <td>Single</td>\n",
       "      <td>58138.0</td>\n",
       "      <td>0</td>\n",
       "      <td>0</td>\n",
       "      <td>2012-09-04</td>\n",
       "      <td>58</td>\n",
       "      <td>635</td>\n",
       "      <td>88</td>\n",
       "      <td>546</td>\n",
       "      <td>172</td>\n",
       "      <td>88</td>\n",
       "      <td>88</td>\n",
       "      <td>3</td>\n",
       "      <td>8</td>\n",
       "      <td>10</td>\n",
       "      <td>4</td>\n",
       "      <td>7</td>\n",
       "      <td>0</td>\n",
       "      <td>0</td>\n",
       "      <td>0</td>\n",
       "      <td>0</td>\n",
       "      <td>0</td>\n",
       "      <td>0</td>\n",
       "      <td>1</td>\n",
       "      <td>57</td>\n",
       "      <td>58138.0</td>\n",
       "    </tr>\n",
       "    <tr>\n",
       "      <th>1</th>\n",
       "      <td>2174</td>\n",
       "      <td>1954</td>\n",
       "      <td>Graduation</td>\n",
       "      <td>Single</td>\n",
       "      <td>46344.0</td>\n",
       "      <td>1</td>\n",
       "      <td>1</td>\n",
       "      <td>2014-03-08</td>\n",
       "      <td>38</td>\n",
       "      <td>11</td>\n",
       "      <td>1</td>\n",
       "      <td>6</td>\n",
       "      <td>2</td>\n",
       "      <td>1</td>\n",
       "      <td>6</td>\n",
       "      <td>2</td>\n",
       "      <td>1</td>\n",
       "      <td>1</td>\n",
       "      <td>2</td>\n",
       "      <td>5</td>\n",
       "      <td>0</td>\n",
       "      <td>0</td>\n",
       "      <td>0</td>\n",
       "      <td>0</td>\n",
       "      <td>0</td>\n",
       "      <td>0</td>\n",
       "      <td>0</td>\n",
       "      <td>60</td>\n",
       "      <td>15448.0</td>\n",
       "    </tr>\n",
       "    <tr>\n",
       "      <th>2</th>\n",
       "      <td>4141</td>\n",
       "      <td>1965</td>\n",
       "      <td>Graduation</td>\n",
       "      <td>Together</td>\n",
       "      <td>71613.0</td>\n",
       "      <td>0</td>\n",
       "      <td>0</td>\n",
       "      <td>2013-08-21</td>\n",
       "      <td>26</td>\n",
       "      <td>426</td>\n",
       "      <td>49</td>\n",
       "      <td>127</td>\n",
       "      <td>111</td>\n",
       "      <td>21</td>\n",
       "      <td>42</td>\n",
       "      <td>1</td>\n",
       "      <td>8</td>\n",
       "      <td>2</td>\n",
       "      <td>10</td>\n",
       "      <td>4</td>\n",
       "      <td>0</td>\n",
       "      <td>0</td>\n",
       "      <td>0</td>\n",
       "      <td>0</td>\n",
       "      <td>0</td>\n",
       "      <td>0</td>\n",
       "      <td>0</td>\n",
       "      <td>49</td>\n",
       "      <td>35806.5</td>\n",
       "    </tr>\n",
       "    <tr>\n",
       "      <th>3</th>\n",
       "      <td>6182</td>\n",
       "      <td>1984</td>\n",
       "      <td>Graduation</td>\n",
       "      <td>Together</td>\n",
       "      <td>26646.0</td>\n",
       "      <td>1</td>\n",
       "      <td>0</td>\n",
       "      <td>2014-02-10</td>\n",
       "      <td>26</td>\n",
       "      <td>11</td>\n",
       "      <td>4</td>\n",
       "      <td>20</td>\n",
       "      <td>10</td>\n",
       "      <td>3</td>\n",
       "      <td>5</td>\n",
       "      <td>2</td>\n",
       "      <td>2</td>\n",
       "      <td>0</td>\n",
       "      <td>4</td>\n",
       "      <td>6</td>\n",
       "      <td>0</td>\n",
       "      <td>0</td>\n",
       "      <td>0</td>\n",
       "      <td>0</td>\n",
       "      <td>0</td>\n",
       "      <td>0</td>\n",
       "      <td>0</td>\n",
       "      <td>30</td>\n",
       "      <td>8882.0</td>\n",
       "    </tr>\n",
       "    <tr>\n",
       "      <th>4</th>\n",
       "      <td>5324</td>\n",
       "      <td>1981</td>\n",
       "      <td>PhD</td>\n",
       "      <td>Married</td>\n",
       "      <td>58293.0</td>\n",
       "      <td>1</td>\n",
       "      <td>0</td>\n",
       "      <td>2014-01-19</td>\n",
       "      <td>94</td>\n",
       "      <td>173</td>\n",
       "      <td>43</td>\n",
       "      <td>118</td>\n",
       "      <td>46</td>\n",
       "      <td>27</td>\n",
       "      <td>15</td>\n",
       "      <td>5</td>\n",
       "      <td>5</td>\n",
       "      <td>3</td>\n",
       "      <td>6</td>\n",
       "      <td>5</td>\n",
       "      <td>0</td>\n",
       "      <td>0</td>\n",
       "      <td>0</td>\n",
       "      <td>0</td>\n",
       "      <td>0</td>\n",
       "      <td>0</td>\n",
       "      <td>0</td>\n",
       "      <td>33</td>\n",
       "      <td>19431.0</td>\n",
       "    </tr>\n",
       "  </tbody>\n",
       "</table>\n",
       "</div>"
      ],
      "text/plain": [
       "     ID  Year_Birth   Education Marital_Status   Income  Kidhome  Teenhome  \\\n",
       "0  5524        1957  Graduation         Single  58138.0        0         0   \n",
       "1  2174        1954  Graduation         Single  46344.0        1         1   \n",
       "2  4141        1965  Graduation       Together  71613.0        0         0   \n",
       "3  6182        1984  Graduation       Together  26646.0        1         0   \n",
       "4  5324        1981         PhD        Married  58293.0        1         0   \n",
       "\n",
       "  Dt_Customer  Recency  MntWines  MntFruits  MntMeatProducts  MntFishProducts  \\\n",
       "0  2012-09-04       58       635         88              546              172   \n",
       "1  2014-03-08       38        11          1                6                2   \n",
       "2  2013-08-21       26       426         49              127              111   \n",
       "3  2014-02-10       26        11          4               20               10   \n",
       "4  2014-01-19       94       173         43              118               46   \n",
       "\n",
       "   MntSweetProducts  MntGoldProds  NumDealsPurchases  NumWebPurchases  \\\n",
       "0                88            88                  3                8   \n",
       "1                 1             6                  2                1   \n",
       "2                21            42                  1                8   \n",
       "3                 3             5                  2                2   \n",
       "4                27            15                  5                5   \n",
       "\n",
       "   NumCatalogPurchases  NumStorePurchases  NumWebVisitsMonth  AcceptedCmp3  \\\n",
       "0                   10                  4                  7             0   \n",
       "1                    1                  2                  5             0   \n",
       "2                    2                 10                  4             0   \n",
       "3                    0                  4                  6             0   \n",
       "4                    3                  6                  5             0   \n",
       "\n",
       "   AcceptedCmp4  AcceptedCmp5  AcceptedCmp1  AcceptedCmp2  Complain  Response  \\\n",
       "0             0             0             0             0         0         1   \n",
       "1             0             0             0             0         0         0   \n",
       "2             0             0             0             0         0         0   \n",
       "3             0             0             0             0         0         0   \n",
       "4             0             0             0             0         0         0   \n",
       "\n",
       "   Age  Income_PerCap  \n",
       "0   57        58138.0  \n",
       "1   60        15448.0  \n",
       "2   49        35806.5  \n",
       "3   30         8882.0  \n",
       "4   33        19431.0  "
      ]
     },
     "execution_count": 53,
     "metadata": {},
     "output_type": "execute_result"
    }
   ],
   "source": [
    "# Let's get income per capital per household per year\n",
    "\n",
    "ccustomers['Income_PerCap'] = ccustomers['Income'] / (ccustomers['Marital_Status'].map({'Married': 2, \n",
    "                                                                                        'Together': 2,\n",
    "                                                                                        'Single': 1,\n",
    "                                                                                        'Divorced': 1,\n",
    "                                                                                        'Widow': 1}) \\\n",
    "                                                    + ccustomers['Kidhome'] \\\n",
    "                                                    + ccustomers['Teenhome']) \n",
    "\n",
    "ccustomers.head()"
   ]
  },
  {
   "cell_type": "code",
   "execution_count": 54,
   "id": "pursuant-ordinance",
   "metadata": {},
   "outputs": [],
   "source": [
    "# Proportion of spending on company's products to Income and Income_PerCap"
   ]
  },
  {
   "cell_type": "markdown",
   "id": "banner-religion",
   "metadata": {},
   "source": [
    "------------------"
   ]
  },
  {
   "cell_type": "code",
   "execution_count": null,
   "id": "genetic-chuck",
   "metadata": {},
   "outputs": [],
   "source": [
    "# ccustomers[ccustomers['Dt_Customer'] == ccustomers['Dt_Customer'].min()]"
   ]
  },
  {
   "cell_type": "code",
   "execution_count": null,
   "id": "unusual-raise",
   "metadata": {},
   "outputs": [],
   "source": [
    "# to_count = ['AcceptedCmp1', 'AcceptedCmp2', 'AcceptedCmp3', 'AcceptedCmp4', 'AcceptedCmp5']\n",
    "# for var in to_count:\n",
    "#     print(ccustomers[var].value_counts(), '\\n================================ \\n')"
   ]
  },
  {
   "cell_type": "code",
   "execution_count": null,
   "id": "nutritional-fellowship",
   "metadata": {},
   "outputs": [],
   "source": [
    "# purchase_flow = ccustomers[['AcceptedCmp1', 'AcceptedCmp2', 'AcceptedCmp3', 'AcceptedCmp4', 'AcceptedCmp5', 'Response']]\n",
    "# purchase_flow['total'] = np.sum(ccustomers[['AcceptedCmp1', 'AcceptedCmp2', 'AcceptedCmp3', 'AcceptedCmp4', 'AcceptedCmp5', 'Response']], axis = 1)\n",
    "# # np.sum(np.array(ccustomers[['AcceptedCmp1', 'AcceptedCmp2', 'AcceptedCmp3', 'AcceptedCmp4', 'AcceptedCmp5', 'Response']]), axis = 1)\n",
    "# ccustomers[purchase_flow['total'] == 5]"
   ]
  },
  {
   "cell_type": "code",
   "execution_count": null,
   "id": "seventh-mouse",
   "metadata": {},
   "outputs": [],
   "source": [
    "# ccustomers['Recency'].hist();"
   ]
  },
  {
   "cell_type": "code",
   "execution_count": null,
   "id": "pending-original",
   "metadata": {},
   "outputs": [],
   "source": [
    "# ccustomers['Response'].value_counts()"
   ]
  },
  {
   "cell_type": "code",
   "execution_count": null,
   "id": "christian-mississippi",
   "metadata": {},
   "outputs": [],
   "source": [
    "# ccustomers[ccustomers['Response'] == 1]['Recency'].hist()\n",
    "# ccustomers[ccustomers['Response'] == 0]['Recency'].hist()"
   ]
  },
  {
   "cell_type": "code",
   "execution_count": null,
   "id": "maritime-draft",
   "metadata": {},
   "outputs": [],
   "source": []
  }
 ],
 "metadata": {
  "kernelspec": {
   "display_name": "Python 3",
   "language": "python",
   "name": "python3"
  },
  "language_info": {
   "codemirror_mode": {
    "name": "ipython",
    "version": 3
   },
   "file_extension": ".py",
   "mimetype": "text/x-python",
   "name": "python",
   "nbconvert_exporter": "python",
   "pygments_lexer": "ipython3",
   "version": "3.8.6"
  }
 },
 "nbformat": 4,
 "nbformat_minor": 5
}
