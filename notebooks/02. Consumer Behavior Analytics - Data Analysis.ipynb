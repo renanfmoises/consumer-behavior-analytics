{
 "cells": [
  {
   "cell_type": "code",
   "execution_count": 1,
   "id": "sonic-tablet",
   "metadata": {},
   "outputs": [],
   "source": [
    "# Basic libraries\n",
    "import pandas as pd\n",
    "import numpy as np\n",
    "\n",
    "# Utils\n",
    "# import lux\n",
    "# import itertools\n",
    "import datetime\n",
    "\n",
    "# DataViz libraries\n",
    "import matplotlib.pyplot as plt\n",
    "import seaborn as sns\n",
    "\n",
    "# Data libraries\n",
    "from sklearn.preprocessing import MinMaxScaler, RobustScaler\n",
    "\n",
    "# Notebook setup\n",
    "import warnings\n",
    "warnings.filterwarnings('ignore')\n",
    "\n",
    "pd.set_option('display.max_columns', None)"
   ]
  },
  {
   "cell_type": "markdown",
   "id": "broad-genesis",
   "metadata": {},
   "source": [
    "## Schedule"
   ]
  },
  {
   "cell_type": "markdown",
   "id": "grateful-debate",
   "metadata": {},
   "source": [
    "### Exploratory Data Analysis\n",
    "- Feature Engineering: discretizing and combining some variables.\n",
    "- Univariate analysis\n",
    "- Bivariate analysis"
   ]
  },
  {
   "cell_type": "markdown",
   "id": "extra-leonard",
   "metadata": {},
   "source": [
    "Let's keep an easy access to the data dictonary:\n",
    "\n",
    "<img src=\"../images/data_dict.jpg\" width=\"600\" height=\"300\">"
   ]
  },
  {
   "cell_type": "markdown",
   "id": "competent-reservation",
   "metadata": {},
   "source": [
    "### 0. Loading dataset and reviewing it"
   ]
  },
  {
   "cell_type": "code",
   "execution_count": 2,
   "id": "olive-indie",
   "metadata": {},
   "outputs": [
    {
     "data": {
      "text/html": [
       "<div>\n",
       "<style scoped>\n",
       "    .dataframe tbody tr th:only-of-type {\n",
       "        vertical-align: middle;\n",
       "    }\n",
       "\n",
       "    .dataframe tbody tr th {\n",
       "        vertical-align: top;\n",
       "    }\n",
       "\n",
       "    .dataframe thead th {\n",
       "        text-align: right;\n",
       "    }\n",
       "</style>\n",
       "<table border=\"1\" class=\"dataframe\">\n",
       "  <thead>\n",
       "    <tr style=\"text-align: right;\">\n",
       "      <th></th>\n",
       "      <th>ID</th>\n",
       "      <th>Year_Birth</th>\n",
       "      <th>Education</th>\n",
       "      <th>Marital_Status</th>\n",
       "      <th>Income</th>\n",
       "      <th>Kidhome</th>\n",
       "      <th>Teenhome</th>\n",
       "      <th>Dt_Customer</th>\n",
       "      <th>Recency</th>\n",
       "      <th>MntWines</th>\n",
       "      <th>MntFruits</th>\n",
       "      <th>MntMeatProducts</th>\n",
       "      <th>MntFishProducts</th>\n",
       "      <th>MntSweetProducts</th>\n",
       "      <th>MntGoldProds</th>\n",
       "      <th>NumDealsPurchases</th>\n",
       "      <th>NumWebPurchases</th>\n",
       "      <th>NumCatalogPurchases</th>\n",
       "      <th>NumStorePurchases</th>\n",
       "      <th>NumWebVisitsMonth</th>\n",
       "      <th>AcceptedCmp3</th>\n",
       "      <th>AcceptedCmp4</th>\n",
       "      <th>AcceptedCmp5</th>\n",
       "      <th>AcceptedCmp1</th>\n",
       "      <th>AcceptedCmp2</th>\n",
       "      <th>Complain</th>\n",
       "      <th>Response</th>\n",
       "    </tr>\n",
       "  </thead>\n",
       "  <tbody>\n",
       "    <tr>\n",
       "      <th>0</th>\n",
       "      <td>5524</td>\n",
       "      <td>1957</td>\n",
       "      <td>Graduation</td>\n",
       "      <td>Single</td>\n",
       "      <td>58138.0</td>\n",
       "      <td>0</td>\n",
       "      <td>0</td>\n",
       "      <td>2012-09-04</td>\n",
       "      <td>58</td>\n",
       "      <td>635</td>\n",
       "      <td>88</td>\n",
       "      <td>546</td>\n",
       "      <td>172</td>\n",
       "      <td>88</td>\n",
       "      <td>88</td>\n",
       "      <td>3</td>\n",
       "      <td>8</td>\n",
       "      <td>10</td>\n",
       "      <td>4</td>\n",
       "      <td>7</td>\n",
       "      <td>0</td>\n",
       "      <td>0</td>\n",
       "      <td>0</td>\n",
       "      <td>0</td>\n",
       "      <td>0</td>\n",
       "      <td>0</td>\n",
       "      <td>1</td>\n",
       "    </tr>\n",
       "    <tr>\n",
       "      <th>1</th>\n",
       "      <td>2174</td>\n",
       "      <td>1954</td>\n",
       "      <td>Graduation</td>\n",
       "      <td>Single</td>\n",
       "      <td>46344.0</td>\n",
       "      <td>1</td>\n",
       "      <td>1</td>\n",
       "      <td>2014-03-08</td>\n",
       "      <td>38</td>\n",
       "      <td>11</td>\n",
       "      <td>1</td>\n",
       "      <td>6</td>\n",
       "      <td>2</td>\n",
       "      <td>1</td>\n",
       "      <td>6</td>\n",
       "      <td>2</td>\n",
       "      <td>1</td>\n",
       "      <td>1</td>\n",
       "      <td>2</td>\n",
       "      <td>5</td>\n",
       "      <td>0</td>\n",
       "      <td>0</td>\n",
       "      <td>0</td>\n",
       "      <td>0</td>\n",
       "      <td>0</td>\n",
       "      <td>0</td>\n",
       "      <td>0</td>\n",
       "    </tr>\n",
       "    <tr>\n",
       "      <th>2</th>\n",
       "      <td>4141</td>\n",
       "      <td>1965</td>\n",
       "      <td>Graduation</td>\n",
       "      <td>Together</td>\n",
       "      <td>71613.0</td>\n",
       "      <td>0</td>\n",
       "      <td>0</td>\n",
       "      <td>2013-08-21</td>\n",
       "      <td>26</td>\n",
       "      <td>426</td>\n",
       "      <td>49</td>\n",
       "      <td>127</td>\n",
       "      <td>111</td>\n",
       "      <td>21</td>\n",
       "      <td>42</td>\n",
       "      <td>1</td>\n",
       "      <td>8</td>\n",
       "      <td>2</td>\n",
       "      <td>10</td>\n",
       "      <td>4</td>\n",
       "      <td>0</td>\n",
       "      <td>0</td>\n",
       "      <td>0</td>\n",
       "      <td>0</td>\n",
       "      <td>0</td>\n",
       "      <td>0</td>\n",
       "      <td>0</td>\n",
       "    </tr>\n",
       "    <tr>\n",
       "      <th>3</th>\n",
       "      <td>6182</td>\n",
       "      <td>1984</td>\n",
       "      <td>Graduation</td>\n",
       "      <td>Together</td>\n",
       "      <td>26646.0</td>\n",
       "      <td>1</td>\n",
       "      <td>0</td>\n",
       "      <td>2014-02-10</td>\n",
       "      <td>26</td>\n",
       "      <td>11</td>\n",
       "      <td>4</td>\n",
       "      <td>20</td>\n",
       "      <td>10</td>\n",
       "      <td>3</td>\n",
       "      <td>5</td>\n",
       "      <td>2</td>\n",
       "      <td>2</td>\n",
       "      <td>0</td>\n",
       "      <td>4</td>\n",
       "      <td>6</td>\n",
       "      <td>0</td>\n",
       "      <td>0</td>\n",
       "      <td>0</td>\n",
       "      <td>0</td>\n",
       "      <td>0</td>\n",
       "      <td>0</td>\n",
       "      <td>0</td>\n",
       "    </tr>\n",
       "    <tr>\n",
       "      <th>4</th>\n",
       "      <td>5324</td>\n",
       "      <td>1981</td>\n",
       "      <td>PhD</td>\n",
       "      <td>Married</td>\n",
       "      <td>58293.0</td>\n",
       "      <td>1</td>\n",
       "      <td>0</td>\n",
       "      <td>2014-01-19</td>\n",
       "      <td>94</td>\n",
       "      <td>173</td>\n",
       "      <td>43</td>\n",
       "      <td>118</td>\n",
       "      <td>46</td>\n",
       "      <td>27</td>\n",
       "      <td>15</td>\n",
       "      <td>5</td>\n",
       "      <td>5</td>\n",
       "      <td>3</td>\n",
       "      <td>6</td>\n",
       "      <td>5</td>\n",
       "      <td>0</td>\n",
       "      <td>0</td>\n",
       "      <td>0</td>\n",
       "      <td>0</td>\n",
       "      <td>0</td>\n",
       "      <td>0</td>\n",
       "      <td>0</td>\n",
       "    </tr>\n",
       "  </tbody>\n",
       "</table>\n",
       "</div>"
      ],
      "text/plain": [
       "     ID  Year_Birth   Education Marital_Status   Income  Kidhome  Teenhome  \\\n",
       "0  5524        1957  Graduation         Single  58138.0        0         0   \n",
       "1  2174        1954  Graduation         Single  46344.0        1         1   \n",
       "2  4141        1965  Graduation       Together  71613.0        0         0   \n",
       "3  6182        1984  Graduation       Together  26646.0        1         0   \n",
       "4  5324        1981         PhD        Married  58293.0        1         0   \n",
       "\n",
       "  Dt_Customer  Recency  MntWines  MntFruits  MntMeatProducts  MntFishProducts  \\\n",
       "0  2012-09-04       58       635         88              546              172   \n",
       "1  2014-03-08       38        11          1                6                2   \n",
       "2  2013-08-21       26       426         49              127              111   \n",
       "3  2014-02-10       26        11          4               20               10   \n",
       "4  2014-01-19       94       173         43              118               46   \n",
       "\n",
       "   MntSweetProducts  MntGoldProds  NumDealsPurchases  NumWebPurchases  \\\n",
       "0                88            88                  3                8   \n",
       "1                 1             6                  2                1   \n",
       "2                21            42                  1                8   \n",
       "3                 3             5                  2                2   \n",
       "4                27            15                  5                5   \n",
       "\n",
       "   NumCatalogPurchases  NumStorePurchases  NumWebVisitsMonth  AcceptedCmp3  \\\n",
       "0                   10                  4                  7             0   \n",
       "1                    1                  2                  5             0   \n",
       "2                    2                 10                  4             0   \n",
       "3                    0                  4                  6             0   \n",
       "4                    3                  6                  5             0   \n",
       "\n",
       "   AcceptedCmp4  AcceptedCmp5  AcceptedCmp1  AcceptedCmp2  Complain  Response  \n",
       "0             0             0             0             0         0         1  \n",
       "1             0             0             0             0         0         0  \n",
       "2             0             0             0             0         0         0  \n",
       "3             0             0             0             0         0         0  \n",
       "4             0             0             0             0         0         0  "
      ]
     },
     "execution_count": 2,
     "metadata": {},
     "output_type": "execute_result"
    }
   ],
   "source": [
    "ccustomers = pd.read_csv('../data/customers_cleaned.csv') # ccustomers: cleaned customers \n",
    "ccustomers.head()"
   ]
  },
  {
   "cell_type": "code",
   "execution_count": 3,
   "id": "meaningful-fireplace",
   "metadata": {},
   "outputs": [
    {
     "data": {
      "text/plain": [
       "(2236, 27)"
      ]
     },
     "execution_count": 3,
     "metadata": {},
     "output_type": "execute_result"
    }
   ],
   "source": [
    "ccustomers.shape"
   ]
  },
  {
   "cell_type": "markdown",
   "id": "severe-resource",
   "metadata": {},
   "source": [
    "Since we will be using `Dt_Customer` for Feature Engineering, let's check the type of the date with `dtypes`."
   ]
  },
  {
   "cell_type": "code",
   "execution_count": 4,
   "id": "laden-anaheim",
   "metadata": {},
   "outputs": [
    {
     "data": {
      "text/plain": [
       "dtype('O')"
      ]
     },
     "execution_count": 4,
     "metadata": {},
     "output_type": "execute_result"
    }
   ],
   "source": [
    "ccustomers['Dt_Customer'].dtypes"
   ]
  },
  {
   "cell_type": "markdown",
   "id": "engaged-battlefield",
   "metadata": {},
   "source": [
    "As an `object` (pandas way to say `str`) we won't be able to perform date operations. We need to transform it into a `datetime` object."
   ]
  },
  {
   "cell_type": "code",
   "execution_count": 5,
   "id": "consistent-reform",
   "metadata": {},
   "outputs": [],
   "source": [
    "# Transforming Dt_Customer variable into a python datetime object\n",
    "ccustomers['Dt_Customer'] = pd.to_datetime(ccustomers['Dt_Customer'])"
   ]
  },
  {
   "cell_type": "markdown",
   "id": "thick-humanitarian",
   "metadata": {},
   "source": [
    "We are all set. Let's mix some data."
   ]
  },
  {
   "cell_type": "markdown",
   "id": "shared-avenue",
   "metadata": {},
   "source": [
    "## 1. Feature Engineering"
   ]
  },
  {
   "cell_type": "markdown",
   "id": "hourly-newcastle",
   "metadata": {},
   "source": [
    "Looking back at the Data Dictionary we can list some operations that might result interesting:\n",
    "\n",
    "- Transform `Year_Birth` in `Age`."
   ]
  },
  {
   "cell_type": "markdown",
   "id": "accessible-florence",
   "metadata": {},
   "source": [
    "### 1.1 Creating `Age` variable"
   ]
  },
  {
   "cell_type": "markdown",
   "id": "attractive-destination",
   "metadata": {},
   "source": [
    "In order to get the customers' `Age` we need to investigate the time span of our data.  "
   ]
  },
  {
   "cell_type": "code",
   "execution_count": 6,
   "id": "accessory-accused",
   "metadata": {},
   "outputs": [
    {
     "name": "stdout",
     "output_type": "stream",
     "text": [
      "First date in our sample dataset is:  30-07-2012\n",
      "Last date in our sample dataset is :  29-06-2014\n",
      "\n",
      "Our data spans throughout 99 weeks.\n"
     ]
    }
   ],
   "source": [
    "min_date, max_date = ccustomers['Dt_Customer'].min().strftime('%d-%m-%Y'), \\\n",
    "                            ccustomers['Dt_Customer'].dt.date.max().strftime('%d-%m-%Y')\n",
    "\n",
    "print('First date in our sample dataset is: ', min_date)\n",
    "print('Last date in our sample dataset is : ', max_date)\n",
    "\n",
    "# Calculating timespan from max_date and min_date\n",
    "span_df = (pd.to_datetime(max_date) - pd.to_datetime(min_date)) // np.timedelta64(1, 'W')\n",
    "\n",
    "print(f'\\nOur data spans throughout {span_df} weeks.')"
   ]
  },
  {
   "cell_type": "code",
   "execution_count": 25,
   "id": "naked-alpha",
   "metadata": {},
   "outputs": [
    {
     "data": {
      "image/png": "[encoded data removed]",
      "text/plain": [
       "<Figure size 1224x360 with 2 Axes>"
      ]
     },
     "metadata": {
      "needs_background": "light"
     },
     "output_type": "display_data"
    }
   ],
   "source": [
    "# Create dataset with features of interest\n",
    "age_analysis = ccustomers[['Year_Birth', 'Dt_Customer', 'Recency']]\n",
    "\n",
    "# Parse dates to Year-Month\n",
    "age_analysis['year_month'] = ccustomers['Dt_Customer'].dt.strftime('%Y-%m')\n",
    "age_analysis['year_week'] = ccustomers['Dt_Customer'].dt.strftime('%Y-%V')\n",
    "\n",
    "# Group data by Year-Month\n",
    "age_analysis_grouped_month_year = age_analysis.groupby(by = 'year_month').count()\n",
    "age_analysis_grouped_week_year = age_analysis.groupby(by = 'year_week').count()\n",
    "\n",
    "\n",
    "# Plotting to see distribution\n",
    "fig, axs = plt.subplots(1, 2, figsize = (17, 5))\n",
    "plt.tight_layout()\n",
    "# Plot Year-Month\n",
    "age_analysis_grouped_month_year['Year_Birth'].plot(kind = 'bar', ax = axs[0])\n",
    "axs[0].set_title('test')\n",
    "\n",
    "# Plot Year-Year_week\n",
    "age_analysis_grouped_week_year['Year_Birth'].plot(kind = 'bar', ax = axs[1]);"
   ]
  },
  {
   "cell_type": "code",
   "execution_count": null,
   "id": "genetic-chuck",
   "metadata": {},
   "outputs": [],
   "source": [
    "ccustomers[ccustomers['Dt_Customer'] == ccustomers['Dt_Customer'].min()]"
   ]
  },
  {
   "cell_type": "code",
   "execution_count": null,
   "id": "unusual-raise",
   "metadata": {},
   "outputs": [],
   "source": [
    "to_count = ['AcceptedCmp1', 'AcceptedCmp2', 'AcceptedCmp3', 'AcceptedCmp4', 'AcceptedCmp5']\n",
    "for var in to_count:\n",
    "    print(ccustomers[var].value_counts(), '\\n================================ \\n')"
   ]
  },
  {
   "cell_type": "code",
   "execution_count": null,
   "id": "nutritional-fellowship",
   "metadata": {},
   "outputs": [],
   "source": [
    "purchase_flow = ccustomers[['AcceptedCmp1', 'AcceptedCmp2', 'AcceptedCmp3', 'AcceptedCmp4', 'AcceptedCmp5', 'Response']]\n",
    "purchase_flow['total'] = np.sum(ccustomers[['AcceptedCmp1', 'AcceptedCmp2', 'AcceptedCmp3', 'AcceptedCmp4', 'AcceptedCmp5', 'Response']], axis = 1)\n",
    "# np.sum(np.array(ccustomers[['AcceptedCmp1', 'AcceptedCmp2', 'AcceptedCmp3', 'AcceptedCmp4', 'AcceptedCmp5', 'Response']]), axis = 1)\n",
    "ccustomers[purchase_flow['total'] == 5]"
   ]
  },
  {
   "cell_type": "code",
   "execution_count": null,
   "id": "seventh-mouse",
   "metadata": {},
   "outputs": [],
   "source": [
    "ccustomers['Recency'].hist();"
   ]
  },
  {
   "cell_type": "code",
   "execution_count": null,
   "id": "pending-original",
   "metadata": {},
   "outputs": [],
   "source": [
    "ccustomers['Response'].value_counts()"
   ]
  },
  {
   "cell_type": "code",
   "execution_count": null,
   "id": "christian-mississippi",
   "metadata": {},
   "outputs": [],
   "source": [
    "ccustomers[ccustomers['Response'] == 1]['Recency'].hist()\n",
    "ccustomers[ccustomers['Response'] == 0]['Recency'].hist()"
   ]
  },
  {
   "cell_type": "code",
   "execution_count": null,
   "id": "maritime-draft",
   "metadata": {},
   "outputs": [],
   "source": []
  }
 ],
 "metadata": {
  "kernelspec": {
   "display_name": "Python 3",
   "language": "python",
   "name": "python3"
  },
  "language_info": {
   "codemirror_mode": {
    "name": "ipython",
    "version": 3
   },
   "file_extension": ".py",
   "mimetype": "text/x-python",
   "name": "python",
   "nbconvert_exporter": "python",
   "pygments_lexer": "ipython3",
   "version": "3.8.6"
  }
 },
 "nbformat": 4,
 "nbformat_minor": 5
}
