{
 "cells": [
  {
   "cell_type": "markdown",
   "id": "round-ordering",
   "metadata": {},
   "source": [
    "# Consumer Behavior Analytics - Data Modelling  of `customers_whole`"
   ]
  },
  {
   "cell_type": "markdown",
   "id": "genetic-noise",
   "metadata": {},
   "source": [
    "**Libraries and imports**"
   ]
  },
  {
   "cell_type": "code",
   "execution_count": 1,
   "id": "geological-option",
   "metadata": {},
   "outputs": [],
   "source": [
    "# Basic DS libraries\n",
    "import pandas as pd\n",
    "import numpy as np\n",
    "\n",
    "# DataViz libraries\n",
    "import matplotlib.pyplot as plt\n",
    "import seaborn as sns\n",
    "\n",
    "# Statistics Libraries\n",
    "from scipy import stats\n",
    "from statsmodels.stats.outliers_influence import variance_inflation_factor as vif\n",
    "\n",
    "# Data Utils\n",
    "from sklearn.model_selection import train_test_split, cross_validate, RandomizedSearchCV\n",
    "from sklearn.preprocessing import MinMaxScaler, RobustScaler, StandardScaler\n",
    "from sklearn.metrics import classification_report, confusion_matrix, f1_score, \\\n",
    "                                                                     recall_score, \\\n",
    "                                                                     precision_score, \\\n",
    "                                                                     accuracy_score\n",
    "from imblearn.over_sampling import SMOTE\n",
    "\n",
    "# Models\n",
    "from sklearn.linear_model import LogisticRegression\n",
    "\n",
    "# Notebook setup\n",
    "import warnings\n",
    "warnings.filterwarnings('ignore')\n",
    "pd.set_option('display.max_columns', None)"
   ]
  },
  {
   "cell_type": "code",
   "execution_count": 2,
   "id": "homeless-floating",
   "metadata": {},
   "outputs": [],
   "source": [
    "# Loading customers exposed\n",
    "customers_exposed = pd.read_csv('../data/customers_exposed.csv', parse_dates = ['Dt_Customer'])\n",
    "\n",
    "# Loading customers whole\n",
    "customers_whole = pd.read_csv('../data/customers_whole.csv', parse_dates = ['Dt_Customer'])"
   ]
  },
  {
   "cell_type": "code",
   "execution_count": 3,
   "id": "indonesian-martin",
   "metadata": {},
   "outputs": [
    {
     "data": {
      "text/html": [
       "<div>\n",
       "<style scoped>\n",
       "    .dataframe tbody tr th:only-of-type {\n",
       "        vertical-align: middle;\n",
       "    }\n",
       "\n",
       "    .dataframe tbody tr th {\n",
       "        vertical-align: top;\n",
       "    }\n",
       "\n",
       "    .dataframe thead th {\n",
       "        text-align: right;\n",
       "    }\n",
       "</style>\n",
       "<table border=\"1\" class=\"dataframe\">\n",
       "  <thead>\n",
       "    <tr style=\"text-align: right;\">\n",
       "      <th></th>\n",
       "      <th>ID</th>\n",
       "      <th>Year_Birth</th>\n",
       "      <th>Education</th>\n",
       "      <th>Marital_Status</th>\n",
       "      <th>Income</th>\n",
       "      <th>Kidhome</th>\n",
       "      <th>Teenhome</th>\n",
       "      <th>Dt_Customer</th>\n",
       "      <th>Recency</th>\n",
       "      <th>MntWines</th>\n",
       "      <th>MntFruits</th>\n",
       "      <th>MntMeatProducts</th>\n",
       "      <th>MntFishProducts</th>\n",
       "      <th>MntSweetProducts</th>\n",
       "      <th>MntGoldProds</th>\n",
       "      <th>NumDealsPurchases</th>\n",
       "      <th>NumWebPurchases</th>\n",
       "      <th>NumCatalogPurchases</th>\n",
       "      <th>NumStorePurchases</th>\n",
       "      <th>NumWebVisitsMonth</th>\n",
       "      <th>AcceptedCmp3</th>\n",
       "      <th>AcceptedCmp4</th>\n",
       "      <th>AcceptedCmp5</th>\n",
       "      <th>AcceptedCmp1</th>\n",
       "      <th>AcceptedCmp2</th>\n",
       "      <th>Complain</th>\n",
       "      <th>Response</th>\n",
       "      <th>Income_PerCap</th>\n",
       "      <th>Prop_Spending_Income_pc</th>\n",
       "      <th>Avg_Ticket</th>\n",
       "      <th>Age</th>\n",
       "    </tr>\n",
       "  </thead>\n",
       "  <tbody>\n",
       "    <tr>\n",
       "      <th>0</th>\n",
       "      <td>5524</td>\n",
       "      <td>1957</td>\n",
       "      <td>Graduation</td>\n",
       "      <td>Single</td>\n",
       "      <td>58138.0</td>\n",
       "      <td>0</td>\n",
       "      <td>0</td>\n",
       "      <td>2012-09-04</td>\n",
       "      <td>58</td>\n",
       "      <td>635</td>\n",
       "      <td>88</td>\n",
       "      <td>546</td>\n",
       "      <td>172</td>\n",
       "      <td>88</td>\n",
       "      <td>88</td>\n",
       "      <td>3</td>\n",
       "      <td>8</td>\n",
       "      <td>10</td>\n",
       "      <td>4</td>\n",
       "      <td>7</td>\n",
       "      <td>0</td>\n",
       "      <td>0</td>\n",
       "      <td>0</td>\n",
       "      <td>0</td>\n",
       "      <td>0</td>\n",
       "      <td>0</td>\n",
       "      <td>1</td>\n",
       "      <td>58138.0</td>\n",
       "      <td>0.027813</td>\n",
       "      <td>64.68</td>\n",
       "      <td>57</td>\n",
       "    </tr>\n",
       "    <tr>\n",
       "      <th>1</th>\n",
       "      <td>4855</td>\n",
       "      <td>1974</td>\n",
       "      <td>PhD</td>\n",
       "      <td>Together</td>\n",
       "      <td>30351.0</td>\n",
       "      <td>1</td>\n",
       "      <td>0</td>\n",
       "      <td>2013-06-06</td>\n",
       "      <td>19</td>\n",
       "      <td>14</td>\n",
       "      <td>0</td>\n",
       "      <td>24</td>\n",
       "      <td>3</td>\n",
       "      <td>3</td>\n",
       "      <td>2</td>\n",
       "      <td>1</td>\n",
       "      <td>3</td>\n",
       "      <td>0</td>\n",
       "      <td>2</td>\n",
       "      <td>9</td>\n",
       "      <td>0</td>\n",
       "      <td>0</td>\n",
       "      <td>0</td>\n",
       "      <td>0</td>\n",
       "      <td>0</td>\n",
       "      <td>0</td>\n",
       "      <td>1</td>\n",
       "      <td>10117.0</td>\n",
       "      <td>0.004547</td>\n",
       "      <td>7.67</td>\n",
       "      <td>40</td>\n",
       "    </tr>\n",
       "    <tr>\n",
       "      <th>2</th>\n",
       "      <td>5899</td>\n",
       "      <td>1950</td>\n",
       "      <td>PhD</td>\n",
       "      <td>Together</td>\n",
       "      <td>5648.0</td>\n",
       "      <td>1</td>\n",
       "      <td>1</td>\n",
       "      <td>2014-03-13</td>\n",
       "      <td>68</td>\n",
       "      <td>28</td>\n",
       "      <td>0</td>\n",
       "      <td>6</td>\n",
       "      <td>1</td>\n",
       "      <td>1</td>\n",
       "      <td>13</td>\n",
       "      <td>1</td>\n",
       "      <td>1</td>\n",
       "      <td>0</td>\n",
       "      <td>0</td>\n",
       "      <td>20</td>\n",
       "      <td>1</td>\n",
       "      <td>0</td>\n",
       "      <td>0</td>\n",
       "      <td>0</td>\n",
       "      <td>0</td>\n",
       "      <td>0</td>\n",
       "      <td>0</td>\n",
       "      <td>1412.0</td>\n",
       "      <td>0.034703</td>\n",
       "      <td>24.50</td>\n",
       "      <td>64</td>\n",
       "    </tr>\n",
       "    <tr>\n",
       "      <th>3</th>\n",
       "      <td>2114</td>\n",
       "      <td>1946</td>\n",
       "      <td>PhD</td>\n",
       "      <td>Single</td>\n",
       "      <td>82800.0</td>\n",
       "      <td>0</td>\n",
       "      <td>0</td>\n",
       "      <td>2012-11-24</td>\n",
       "      <td>23</td>\n",
       "      <td>1006</td>\n",
       "      <td>22</td>\n",
       "      <td>115</td>\n",
       "      <td>59</td>\n",
       "      <td>68</td>\n",
       "      <td>45</td>\n",
       "      <td>1</td>\n",
       "      <td>7</td>\n",
       "      <td>6</td>\n",
       "      <td>12</td>\n",
       "      <td>3</td>\n",
       "      <td>0</td>\n",
       "      <td>0</td>\n",
       "      <td>1</td>\n",
       "      <td>1</td>\n",
       "      <td>0</td>\n",
       "      <td>0</td>\n",
       "      <td>1</td>\n",
       "      <td>82800.0</td>\n",
       "      <td>0.015882</td>\n",
       "      <td>50.58</td>\n",
       "      <td>68</td>\n",
       "    </tr>\n",
       "    <tr>\n",
       "      <th>4</th>\n",
       "      <td>6565</td>\n",
       "      <td>1949</td>\n",
       "      <td>Master</td>\n",
       "      <td>Married</td>\n",
       "      <td>76995.0</td>\n",
       "      <td>0</td>\n",
       "      <td>1</td>\n",
       "      <td>2013-03-28</td>\n",
       "      <td>91</td>\n",
       "      <td>1012</td>\n",
       "      <td>80</td>\n",
       "      <td>498</td>\n",
       "      <td>0</td>\n",
       "      <td>16</td>\n",
       "      <td>176</td>\n",
       "      <td>2</td>\n",
       "      <td>11</td>\n",
       "      <td>4</td>\n",
       "      <td>9</td>\n",
       "      <td>5</td>\n",
       "      <td>0</td>\n",
       "      <td>0</td>\n",
       "      <td>0</td>\n",
       "      <td>1</td>\n",
       "      <td>0</td>\n",
       "      <td>0</td>\n",
       "      <td>0</td>\n",
       "      <td>25665.0</td>\n",
       "      <td>0.069433</td>\n",
       "      <td>68.54</td>\n",
       "      <td>65</td>\n",
       "    </tr>\n",
       "  </tbody>\n",
       "</table>\n",
       "</div>"
      ],
      "text/plain": [
       "     ID  Year_Birth   Education Marital_Status   Income  Kidhome  Teenhome  \\\n",
       "0  5524        1957  Graduation         Single  58138.0        0         0   \n",
       "1  4855        1974         PhD       Together  30351.0        1         0   \n",
       "2  5899        1950         PhD       Together   5648.0        1         1   \n",
       "3  2114        1946         PhD         Single  82800.0        0         0   \n",
       "4  6565        1949      Master        Married  76995.0        0         1   \n",
       "\n",
       "  Dt_Customer  Recency  MntWines  MntFruits  MntMeatProducts  MntFishProducts  \\\n",
       "0  2012-09-04       58       635         88              546              172   \n",
       "1  2013-06-06       19        14          0               24                3   \n",
       "2  2014-03-13       68        28          0                6                1   \n",
       "3  2012-11-24       23      1006         22              115               59   \n",
       "4  2013-03-28       91      1012         80              498                0   \n",
       "\n",
       "   MntSweetProducts  MntGoldProds  NumDealsPurchases  NumWebPurchases  \\\n",
       "0                88            88                  3                8   \n",
       "1                 3             2                  1                3   \n",
       "2                 1            13                  1                1   \n",
       "3                68            45                  1                7   \n",
       "4                16           176                  2               11   \n",
       "\n",
       "   NumCatalogPurchases  NumStorePurchases  NumWebVisitsMonth  AcceptedCmp3  \\\n",
       "0                   10                  4                  7             0   \n",
       "1                    0                  2                  9             0   \n",
       "2                    0                  0                 20             1   \n",
       "3                    6                 12                  3             0   \n",
       "4                    4                  9                  5             0   \n",
       "\n",
       "   AcceptedCmp4  AcceptedCmp5  AcceptedCmp1  AcceptedCmp2  Complain  Response  \\\n",
       "0             0             0             0             0         0         1   \n",
       "1             0             0             0             0         0         1   \n",
       "2             0             0             0             0         0         0   \n",
       "3             0             1             1             0         0         1   \n",
       "4             0             0             1             0         0         0   \n",
       "\n",
       "   Income_PerCap  Prop_Spending_Income_pc  Avg_Ticket  Age  \n",
       "0        58138.0                 0.027813       64.68   57  \n",
       "1        10117.0                 0.004547        7.67   40  \n",
       "2         1412.0                 0.034703       24.50   64  \n",
       "3        82800.0                 0.015882       50.58   68  \n",
       "4        25665.0                 0.069433       68.54   65  "
      ]
     },
     "execution_count": 3,
     "metadata": {},
     "output_type": "execute_result"
    }
   ],
   "source": [
    "customers_exposed.head()"
   ]
  },
  {
   "cell_type": "code",
   "execution_count": 4,
   "id": "labeled-party",
   "metadata": {},
   "outputs": [
    {
     "data": {
      "text/plain": [
       "1    0.5486\n",
       "0    0.4514\n",
       "Name: Response, dtype: float64"
      ]
     },
     "execution_count": 4,
     "metadata": {},
     "output_type": "execute_result"
    }
   ],
   "source": [
    "customers_exposed['Response'].value_counts(normalize = True)"
   ]
  },
  {
   "cell_type": "markdown",
   "id": "intense-stereo",
   "metadata": {},
   "source": [
    "## Data Preparation"
   ]
  },
  {
   "cell_type": "code",
   "execution_count": 5,
   "id": "protecting-assessment",
   "metadata": {},
   "outputs": [],
   "source": [
    "# Defining Sample first_date\n",
    "first_date = customers_whole['Dt_Customer'].min()\n",
    "\n",
    "# Transforming datetime feature to numeric feature\n",
    "for df in [customers_exposed, customers_whole]:\n",
    "    df['Dt_Customer_InDays'] = df['Dt_Customer'] - first_date\n",
    "    \n",
    "    df['Dt_Customer_InDays'] = (df['Dt_Customer_InDays'] / np.timedelta64(1, 'D')).astype(int) + 1\n",
    "    \n",
    "    # Dropping unuseful columns for modelling\n",
    "    df.drop(['ID', 'Dt_Customer'], axis = 1, inplace = True)"
   ]
  },
  {
   "cell_type": "code",
   "execution_count": 6,
   "id": "artificial-activation",
   "metadata": {},
   "outputs": [],
   "source": [
    "# One Hot Encoding categorical features with pd.get_dummies\n",
    "# customers_exposed_ohe = pd.get_dummies(customers_exposed)\n",
    "customers_whole_ohe = pd.get_dummies(customers_whole)"
   ]
  },
  {
   "cell_type": "code",
   "execution_count": 7,
   "id": "varying-mixture",
   "metadata": {},
   "outputs": [],
   "source": [
    "# Splitting df_train and df_test for training and testing\n",
    "df_train, df_test = train_test_split(customers_whole_ohe, test_size = .2, random_state = 7)"
   ]
  },
  {
   "cell_type": "code",
   "execution_count": 8,
   "id": "dress-knight",
   "metadata": {},
   "outputs": [],
   "source": [
    "# Splitting df_train into df_train and df_val\n",
    "df_train, df_val = train_test_split(df_train, test_size = .2, random_state = 7)"
   ]
  },
  {
   "cell_type": "code",
   "execution_count": 9,
   "id": "extended-clarity",
   "metadata": {},
   "outputs": [
    {
     "data": {
      "text/plain": [
       "0    1217\n",
       "1     211\n",
       "Name: Response, dtype: int64"
      ]
     },
     "execution_count": 9,
     "metadata": {},
     "output_type": "execute_result"
    }
   ],
   "source": [
    "# Checking target variable balance (or unballance)\n",
    "df_train['Response'].value_counts()"
   ]
  },
  {
   "cell_type": "code",
   "execution_count": 11,
   "id": "alert-hearing",
   "metadata": {},
   "outputs": [
    {
     "data": {
      "text/plain": [
       "0    1217\n",
       "1    1217\n",
       "Name: Response, dtype: int64"
      ]
     },
     "execution_count": 11,
     "metadata": {},
     "output_type": "execute_result"
    }
   ],
   "source": [
    "# Balancing target variable with SMOTE technique\n",
    "\n",
    "# Instantiating SMOTER over_sampler\n",
    "smote = SMOTE(random_state = 7)\n",
    "\n",
    "# Fitting and resampling data with SMOTE\n",
    "X_train, y_train = smote.fit_resample(df_train.drop('Response', axis = 1), df_train['Response'])\n",
    "\n",
    "# Checking target class balance\n",
    "y_train.value_counts()"
   ]
  },
  {
   "cell_type": "code",
   "execution_count": 12,
   "id": "conceptual-conversion",
   "metadata": {},
   "outputs": [],
   "source": [
    "X_val = df_val.drop('Response', axis = 1)\n",
    "y_val = df_val['Response']\n",
    "\n",
    "X_test = df_test.drop('Response', axis = 1)\n",
    "y_test = df_test['Response']"
   ]
  },
  {
   "cell_type": "code",
   "execution_count": 13,
   "id": "permanent-blackberry",
   "metadata": {},
   "outputs": [
    {
     "name": "stdout",
     "output_type": "stream",
     "text": [
      "X_train, y_train   shapes:  (2434, 37) (2434,)\n",
      "X_val  , y_val     shapes:  (358, 37) (358,)\n",
      "X_test , y_test    shapes:  (447, 37) (447,)\n"
     ]
    }
   ],
   "source": [
    "print('X_train, y_train   shapes: ', X_train.shape, y_train.shape)\n",
    "print('X_val  , y_val     shapes: ', X_val.shape, y_val.shape)\n",
    "print('X_test , y_test    shapes: ', X_test.shape, y_test.shape)"
   ]
  },
  {
   "cell_type": "code",
   "execution_count": 14,
   "id": "potential-demonstration",
   "metadata": {},
   "outputs": [
    {
     "data": {
      "text/plain": [
       "Index(['Year_Birth', 'Income', 'Kidhome', 'Teenhome', 'Recency', 'MntWines',\n",
       "       'MntFruits', 'MntMeatProducts', 'MntFishProducts', 'MntSweetProducts',\n",
       "       'MntGoldProds', 'NumDealsPurchases', 'NumWebPurchases',\n",
       "       'NumCatalogPurchases', 'NumStorePurchases', 'NumWebVisitsMonth',\n",
       "       'AcceptedCmp3', 'AcceptedCmp4', 'AcceptedCmp5', 'AcceptedCmp1',\n",
       "       'AcceptedCmp2', 'Complain', 'Income_PerCap', 'Prop_Spending_Income_pc',\n",
       "       'Avg_Ticket', 'Age', 'Dt_Customer_InDays', 'Education_2n Cycle',\n",
       "       'Education_Basic', 'Education_Graduation', 'Education_Master',\n",
       "       'Education_PhD', 'Marital_Status_Divorced', 'Marital_Status_Married',\n",
       "       'Marital_Status_Single', 'Marital_Status_Together',\n",
       "       'Marital_Status_Widow'],\n",
       "      dtype='object')"
      ]
     },
     "execution_count": 14,
     "metadata": {},
     "output_type": "execute_result"
    }
   ],
   "source": [
    "X_train.columns"
   ]
  },
  {
   "cell_type": "code",
   "execution_count": 15,
   "id": "above-broad",
   "metadata": {},
   "outputs": [],
   "source": [
    "# Separating numeric features in a list\n",
    "numeric_features = [\n",
    "#     'Year_Birth', \n",
    "    'Income', \n",
    "    'Kidhome',                \n",
    "    'Teenhome', \n",
    "    'Recency', \n",
    "    'MntWines', \n",
    "    'MntFruits',\n",
    "    'MntMeatProducts', \n",
    "    'MntFishProducts', \n",
    "    'MntSweetProducts',\n",
    "    'MntGoldProds', \n",
    "    'NumDealsPurchases', \n",
    "    'NumWebPurchases',\n",
    "    'NumCatalogPurchases', \n",
    "    'NumStorePurchases', \n",
    "    'NumWebVisitsMonth', \n",
    "    'Income_PerCap',\n",
    "    'Prop_Spending_Income_pc', \n",
    "    'Avg_Ticket', \n",
    "    'Age', \n",
    "    'Dt_Customer_InDays'\n",
    "]"
   ]
  },
  {
   "cell_type": "code",
   "execution_count": 16,
   "id": "alive-stone",
   "metadata": {},
   "outputs": [
    {
     "data": {
      "text/html": [
       "<div>\n",
       "<style scoped>\n",
       "    .dataframe tbody tr th:only-of-type {\n",
       "        vertical-align: middle;\n",
       "    }\n",
       "\n",
       "    .dataframe tbody tr th {\n",
       "        vertical-align: top;\n",
       "    }\n",
       "\n",
       "    .dataframe thead th {\n",
       "        text-align: right;\n",
       "    }\n",
       "</style>\n",
       "<table border=\"1\" class=\"dataframe\">\n",
       "  <thead>\n",
       "    <tr style=\"text-align: right;\">\n",
       "      <th></th>\n",
       "      <th>vif_index</th>\n",
       "      <th>feature</th>\n",
       "    </tr>\n",
       "  </thead>\n",
       "  <tbody>\n",
       "    <tr>\n",
       "      <th>0</th>\n",
       "      <td>38.658408</td>\n",
       "      <td>Income</td>\n",
       "    </tr>\n",
       "    <tr>\n",
       "      <th>1</th>\n",
       "      <td>3.005265</td>\n",
       "      <td>Kidhome</td>\n",
       "    </tr>\n",
       "    <tr>\n",
       "      <th>2</th>\n",
       "      <td>3.108448</td>\n",
       "      <td>Teenhome</td>\n",
       "    </tr>\n",
       "    <tr>\n",
       "      <th>3</th>\n",
       "      <td>3.422226</td>\n",
       "      <td>Recency</td>\n",
       "    </tr>\n",
       "    <tr>\n",
       "      <th>4</th>\n",
       "      <td>6.347232</td>\n",
       "      <td>MntWines</td>\n",
       "    </tr>\n",
       "    <tr>\n",
       "      <th>5</th>\n",
       "      <td>3.255204</td>\n",
       "      <td>MntFruits</td>\n",
       "    </tr>\n",
       "    <tr>\n",
       "      <th>6</th>\n",
       "      <td>6.611681</td>\n",
       "      <td>MntMeatProducts</td>\n",
       "    </tr>\n",
       "    <tr>\n",
       "      <th>7</th>\n",
       "      <td>3.559219</td>\n",
       "      <td>MntFishProducts</td>\n",
       "    </tr>\n",
       "    <tr>\n",
       "      <th>8</th>\n",
       "      <td>3.344452</td>\n",
       "      <td>MntSweetProducts</td>\n",
       "    </tr>\n",
       "    <tr>\n",
       "      <th>9</th>\n",
       "      <td>3.036579</td>\n",
       "      <td>MntGoldProds</td>\n",
       "    </tr>\n",
       "    <tr>\n",
       "      <th>10</th>\n",
       "      <td>4.265972</td>\n",
       "      <td>NumDealsPurchases</td>\n",
       "    </tr>\n",
       "    <tr>\n",
       "      <th>11</th>\n",
       "      <td>8.016687</td>\n",
       "      <td>NumWebPurchases</td>\n",
       "    </tr>\n",
       "    <tr>\n",
       "      <th>12</th>\n",
       "      <td>7.139517</td>\n",
       "      <td>NumCatalogPurchases</td>\n",
       "    </tr>\n",
       "    <tr>\n",
       "      <th>13</th>\n",
       "      <td>10.478667</td>\n",
       "      <td>NumStorePurchases</td>\n",
       "    </tr>\n",
       "    <tr>\n",
       "      <th>14</th>\n",
       "      <td>9.223564</td>\n",
       "      <td>NumWebVisitsMonth</td>\n",
       "    </tr>\n",
       "    <tr>\n",
       "      <th>15</th>\n",
       "      <td>9.883185</td>\n",
       "      <td>Income_PerCap</td>\n",
       "    </tr>\n",
       "    <tr>\n",
       "      <th>16</th>\n",
       "      <td>1.802826</td>\n",
       "      <td>Prop_Spending_Income_pc</td>\n",
       "    </tr>\n",
       "    <tr>\n",
       "      <th>17</th>\n",
       "      <td>3.700604</td>\n",
       "      <td>Avg_Ticket</td>\n",
       "    </tr>\n",
       "    <tr>\n",
       "      <th>18</th>\n",
       "      <td>16.767958</td>\n",
       "      <td>Age</td>\n",
       "    </tr>\n",
       "    <tr>\n",
       "      <th>19</th>\n",
       "      <td>3.922236</td>\n",
       "      <td>Dt_Customer_InDays</td>\n",
       "    </tr>\n",
       "  </tbody>\n",
       "</table>\n",
       "</div>"
      ],
      "text/plain": [
       "    vif_index                  feature\n",
       "0   38.658408                   Income\n",
       "1    3.005265                  Kidhome\n",
       "2    3.108448                 Teenhome\n",
       "3    3.422226                  Recency\n",
       "4    6.347232                 MntWines\n",
       "5    3.255204                MntFruits\n",
       "6    6.611681          MntMeatProducts\n",
       "7    3.559219          MntFishProducts\n",
       "8    3.344452         MntSweetProducts\n",
       "9    3.036579             MntGoldProds\n",
       "10   4.265972        NumDealsPurchases\n",
       "11   8.016687          NumWebPurchases\n",
       "12   7.139517      NumCatalogPurchases\n",
       "13  10.478667        NumStorePurchases\n",
       "14   9.223564        NumWebVisitsMonth\n",
       "15   9.883185            Income_PerCap\n",
       "16   1.802826  Prop_Spending_Income_pc\n",
       "17   3.700604               Avg_Ticket\n",
       "18  16.767958                      Age\n",
       "19   3.922236       Dt_Customer_InDays"
      ]
     },
     "execution_count": 16,
     "metadata": {},
     "output_type": "execute_result"
    }
   ],
   "source": [
    "vif_df = pd.DataFrame()\n",
    "vif_df[\"vif_index\"] = [vif(X_train[numeric_features].values, i) for i in range(X_train[numeric_features].shape[1])]\n",
    "vif_df[\"feature\"] = X_train[numeric_features].columns\n",
    "vif_df"
   ]
  },
  {
   "cell_type": "code",
   "execution_count": 17,
   "id": "capital-mexico",
   "metadata": {},
   "outputs": [
    {
     "data": {
      "text/plain": [
       "['MntFruits',\n",
       " 'MntMeatProducts',\n",
       " 'MntFishProducts',\n",
       " 'MntSweetProducts',\n",
       " 'MntGoldProds',\n",
       " 'NumDealsPurchases',\n",
       " 'NumWebVisitsMonth',\n",
       " 'Income_PerCap',\n",
       " 'Prop_Spending_Income_pc',\n",
       " 'Avg_Ticket']"
      ]
     },
     "execution_count": 17,
     "metadata": {},
     "output_type": "execute_result"
    }
   ],
   "source": [
    "# Listing features names if feature has outlier\n",
    "to_robust_scale = []\n",
    "for feature in numeric_features:\n",
    "    \n",
    "    Q1 = np.percentile(customers_exposed[feature].sort_values(), 25, interpolation = 'midpoint')  \n",
    "    Q3 = np.percentile(customers_exposed[feature].sort_values(), 75, interpolation = 'midpoint')  \n",
    "\n",
    "    IQR = Q3 - Q1  \n",
    "    \n",
    "    low_lim = Q1 - 1.5 * IQR \n",
    "    up_lim = Q3 + 1.5 * IQR \n",
    "\n",
    "    if (customers_exposed[feature] > up_lim).any() or (customers_exposed[feature] < low_lim).any(): \n",
    "         to_robust_scale.append(feature)\n",
    "\n",
    "to_robust_scale"
   ]
  },
  {
   "cell_type": "code",
   "execution_count": 18,
   "id": "conservative-elevation",
   "metadata": {},
   "outputs": [
    {
     "data": {
      "text/plain": [
       "['Income',\n",
       " 'Kidhome',\n",
       " 'Teenhome',\n",
       " 'Recency',\n",
       " 'MntWines',\n",
       " 'NumWebPurchases',\n",
       " 'NumCatalogPurchases',\n",
       " 'NumStorePurchases',\n",
       " 'Age',\n",
       " 'Dt_Customer_InDays']"
      ]
     },
     "execution_count": 18,
     "metadata": {},
     "output_type": "execute_result"
    }
   ],
   "source": [
    "to_standardize = [feature for feature in numeric_features if feature not in to_robust_scale]\n",
    "to_standardize"
   ]
  },
  {
   "cell_type": "code",
   "execution_count": 19,
   "id": "black-graphics",
   "metadata": {},
   "outputs": [],
   "source": [
    "robust_scaler = RobustScaler()\n",
    "robust_scaler.fit(X_train[to_robust_scale])\n",
    "X_train[to_robust_scale] = robust_scaler.transform(X_train[to_robust_scale])"
   ]
  },
  {
   "cell_type": "code",
   "execution_count": 20,
   "id": "critical-tournament",
   "metadata": {},
   "outputs": [],
   "source": [
    "stand_scaler = StandardScaler()\n",
    "\n",
    "stand_scaler.fit(X_train[to_standardize])\n",
    "X_train[to_standardize] = stand_scaler.transform(X_train[to_standardize])"
   ]
  },
  {
   "cell_type": "code",
   "execution_count": 21,
   "id": "turned-cattle",
   "metadata": {},
   "outputs": [
    {
     "data": {
      "text/html": [
       "<div>\n",
       "<style scoped>\n",
       "    .dataframe tbody tr th:only-of-type {\n",
       "        vertical-align: middle;\n",
       "    }\n",
       "\n",
       "    .dataframe tbody tr th {\n",
       "        vertical-align: top;\n",
       "    }\n",
       "\n",
       "    .dataframe thead th {\n",
       "        text-align: right;\n",
       "    }\n",
       "</style>\n",
       "<table border=\"1\" class=\"dataframe\">\n",
       "  <thead>\n",
       "    <tr style=\"text-align: right;\">\n",
       "      <th></th>\n",
       "      <th>Year_Birth</th>\n",
       "      <th>Income</th>\n",
       "      <th>Kidhome</th>\n",
       "      <th>Teenhome</th>\n",
       "      <th>Recency</th>\n",
       "      <th>MntWines</th>\n",
       "      <th>MntFruits</th>\n",
       "      <th>MntMeatProducts</th>\n",
       "      <th>MntFishProducts</th>\n",
       "      <th>MntSweetProducts</th>\n",
       "      <th>MntGoldProds</th>\n",
       "      <th>NumDealsPurchases</th>\n",
       "      <th>NumWebPurchases</th>\n",
       "      <th>NumCatalogPurchases</th>\n",
       "      <th>NumStorePurchases</th>\n",
       "      <th>NumWebVisitsMonth</th>\n",
       "      <th>AcceptedCmp3</th>\n",
       "      <th>AcceptedCmp4</th>\n",
       "      <th>AcceptedCmp5</th>\n",
       "      <th>AcceptedCmp1</th>\n",
       "      <th>AcceptedCmp2</th>\n",
       "      <th>Complain</th>\n",
       "      <th>Income_PerCap</th>\n",
       "      <th>Prop_Spending_Income_pc</th>\n",
       "      <th>Avg_Ticket</th>\n",
       "      <th>Age</th>\n",
       "      <th>Dt_Customer_InDays</th>\n",
       "      <th>Education_2n Cycle</th>\n",
       "      <th>Education_Basic</th>\n",
       "      <th>Education_Graduation</th>\n",
       "      <th>Education_Master</th>\n",
       "      <th>Education_PhD</th>\n",
       "      <th>Marital_Status_Divorced</th>\n",
       "      <th>Marital_Status_Married</th>\n",
       "      <th>Marital_Status_Single</th>\n",
       "      <th>Marital_Status_Together</th>\n",
       "      <th>Marital_Status_Widow</th>\n",
       "    </tr>\n",
       "  </thead>\n",
       "  <tbody>\n",
       "    <tr>\n",
       "      <th>0</th>\n",
       "      <td>1952</td>\n",
       "      <td>-0.327407</td>\n",
       "      <td>-0.721502</td>\n",
       "      <td>1.202367</td>\n",
       "      <td>-1.284139</td>\n",
       "      <td>-0.317811</td>\n",
       "      <td>-0.048780</td>\n",
       "      <td>-0.057508</td>\n",
       "      <td>-0.064516</td>\n",
       "      <td>-0.250000</td>\n",
       "      <td>-0.196721</td>\n",
       "      <td>0.0</td>\n",
       "      <td>0.710111</td>\n",
       "      <td>-0.054059</td>\n",
       "      <td>-0.273343</td>\n",
       "      <td>-0.25</td>\n",
       "      <td>0</td>\n",
       "      <td>0</td>\n",
       "      <td>0</td>\n",
       "      <td>0</td>\n",
       "      <td>0</td>\n",
       "      <td>0</td>\n",
       "      <td>0.092126</td>\n",
       "      <td>-0.109534</td>\n",
       "      <td>-0.085148</td>\n",
       "      <td>1.535112</td>\n",
       "      <td>-0.711722</td>\n",
       "      <td>0</td>\n",
       "      <td>0</td>\n",
       "      <td>1</td>\n",
       "      <td>0</td>\n",
       "      <td>0</td>\n",
       "      <td>0</td>\n",
       "      <td>0</td>\n",
       "      <td>1</td>\n",
       "      <td>0</td>\n",
       "      <td>0</td>\n",
       "    </tr>\n",
       "    <tr>\n",
       "      <th>1</th>\n",
       "      <td>1965</td>\n",
       "      <td>0.196908</td>\n",
       "      <td>-0.721502</td>\n",
       "      <td>1.202367</td>\n",
       "      <td>1.121146</td>\n",
       "      <td>0.190758</td>\n",
       "      <td>-0.219512</td>\n",
       "      <td>-0.246006</td>\n",
       "      <td>-0.306452</td>\n",
       "      <td>-0.318182</td>\n",
       "      <td>-0.409836</td>\n",
       "      <td>-0.5</td>\n",
       "      <td>1.513462</td>\n",
       "      <td>-0.725387</td>\n",
       "      <td>0.383760</td>\n",
       "      <td>0.25</td>\n",
       "      <td>0</td>\n",
       "      <td>1</td>\n",
       "      <td>0</td>\n",
       "      <td>0</td>\n",
       "      <td>0</td>\n",
       "      <td>0</td>\n",
       "      <td>-0.058510</td>\n",
       "      <td>0.195506</td>\n",
       "      <td>-0.009137</td>\n",
       "      <td>0.374637</td>\n",
       "      <td>-1.180034</td>\n",
       "      <td>0</td>\n",
       "      <td>0</td>\n",
       "      <td>1</td>\n",
       "      <td>0</td>\n",
       "      <td>0</td>\n",
       "      <td>0</td>\n",
       "      <td>1</td>\n",
       "      <td>0</td>\n",
       "      <td>0</td>\n",
       "      <td>0</td>\n",
       "    </tr>\n",
       "    <tr>\n",
       "      <th>2</th>\n",
       "      <td>1961</td>\n",
       "      <td>0.239715</td>\n",
       "      <td>1.245056</td>\n",
       "      <td>1.202367</td>\n",
       "      <td>1.777132</td>\n",
       "      <td>-0.498098</td>\n",
       "      <td>-0.268293</td>\n",
       "      <td>-0.201278</td>\n",
       "      <td>-0.258065</td>\n",
       "      <td>-0.204545</td>\n",
       "      <td>0.016393</td>\n",
       "      <td>1.0</td>\n",
       "      <td>0.308435</td>\n",
       "      <td>-0.725387</td>\n",
       "      <td>-0.273343</td>\n",
       "      <td>0.00</td>\n",
       "      <td>0</td>\n",
       "      <td>0</td>\n",
       "      <td>0</td>\n",
       "      <td>0</td>\n",
       "      <td>0</td>\n",
       "      <td>0</td>\n",
       "      <td>-0.231638</td>\n",
       "      <td>-0.030141</td>\n",
       "      <td>-0.205095</td>\n",
       "      <td>0.731706</td>\n",
       "      <td>-1.468226</td>\n",
       "      <td>0</td>\n",
       "      <td>0</td>\n",
       "      <td>1</td>\n",
       "      <td>0</td>\n",
       "      <td>0</td>\n",
       "      <td>0</td>\n",
       "      <td>1</td>\n",
       "      <td>0</td>\n",
       "      <td>0</td>\n",
       "      <td>0</td>\n",
       "    </tr>\n",
       "    <tr>\n",
       "      <th>3</th>\n",
       "      <td>1962</td>\n",
       "      <td>0.793229</td>\n",
       "      <td>-0.721502</td>\n",
       "      <td>1.202367</td>\n",
       "      <td>-0.956146</td>\n",
       "      <td>2.203509</td>\n",
       "      <td>-0.317073</td>\n",
       "      <td>0.412141</td>\n",
       "      <td>0.000000</td>\n",
       "      <td>0.000000</td>\n",
       "      <td>2.803279</td>\n",
       "      <td>2.0</td>\n",
       "      <td>0.710111</td>\n",
       "      <td>-0.054059</td>\n",
       "      <td>2.355070</td>\n",
       "      <td>0.25</td>\n",
       "      <td>0</td>\n",
       "      <td>0</td>\n",
       "      <td>0</td>\n",
       "      <td>0</td>\n",
       "      <td>0</td>\n",
       "      <td>0</td>\n",
       "      <td>0.103000</td>\n",
       "      <td>1.843065</td>\n",
       "      <td>0.585346</td>\n",
       "      <td>0.642439</td>\n",
       "      <td>-0.577919</td>\n",
       "      <td>0</td>\n",
       "      <td>0</td>\n",
       "      <td>0</td>\n",
       "      <td>1</td>\n",
       "      <td>0</td>\n",
       "      <td>0</td>\n",
       "      <td>1</td>\n",
       "      <td>0</td>\n",
       "      <td>0</td>\n",
       "      <td>0</td>\n",
       "    </tr>\n",
       "    <tr>\n",
       "      <th>4</th>\n",
       "      <td>1976</td>\n",
       "      <td>-1.111357</td>\n",
       "      <td>1.245056</td>\n",
       "      <td>-0.746076</td>\n",
       "      <td>-1.357026</td>\n",
       "      <td>-1.014740</td>\n",
       "      <td>-0.292683</td>\n",
       "      <td>-0.322684</td>\n",
       "      <td>-0.241935</td>\n",
       "      <td>-0.204545</td>\n",
       "      <td>-0.442623</td>\n",
       "      <td>-0.5</td>\n",
       "      <td>-1.298267</td>\n",
       "      <td>-1.061051</td>\n",
       "      <td>-0.930446</td>\n",
       "      <td>0.25</td>\n",
       "      <td>0</td>\n",
       "      <td>0</td>\n",
       "      <td>0</td>\n",
       "      <td>0</td>\n",
       "      <td>0</td>\n",
       "      <td>0</td>\n",
       "      <td>-0.412845</td>\n",
       "      <td>-0.631115</td>\n",
       "      <td>-0.459179</td>\n",
       "      <td>-0.607304</td>\n",
       "      <td>0.106537</td>\n",
       "      <td>0</td>\n",
       "      <td>0</td>\n",
       "      <td>0</td>\n",
       "      <td>1</td>\n",
       "      <td>0</td>\n",
       "      <td>0</td>\n",
       "      <td>0</td>\n",
       "      <td>0</td>\n",
       "      <td>1</td>\n",
       "      <td>0</td>\n",
       "    </tr>\n",
       "  </tbody>\n",
       "</table>\n",
       "</div>"
      ],
      "text/plain": [
       "   Year_Birth    Income   Kidhome  Teenhome   Recency  MntWines  MntFruits  \\\n",
       "0        1952 -0.327407 -0.721502  1.202367 -1.284139 -0.317811  -0.048780   \n",
       "1        1965  0.196908 -0.721502  1.202367  1.121146  0.190758  -0.219512   \n",
       "2        1961  0.239715  1.245056  1.202367  1.777132 -0.498098  -0.268293   \n",
       "3        1962  0.793229 -0.721502  1.202367 -0.956146  2.203509  -0.317073   \n",
       "4        1976 -1.111357  1.245056 -0.746076 -1.357026 -1.014740  -0.292683   \n",
       "\n",
       "   MntMeatProducts  MntFishProducts  MntSweetProducts  MntGoldProds  \\\n",
       "0        -0.057508        -0.064516         -0.250000     -0.196721   \n",
       "1        -0.246006        -0.306452         -0.318182     -0.409836   \n",
       "2        -0.201278        -0.258065         -0.204545      0.016393   \n",
       "3         0.412141         0.000000          0.000000      2.803279   \n",
       "4        -0.322684        -0.241935         -0.204545     -0.442623   \n",
       "\n",
       "   NumDealsPurchases  NumWebPurchases  NumCatalogPurchases  NumStorePurchases  \\\n",
       "0                0.0         0.710111            -0.054059          -0.273343   \n",
       "1               -0.5         1.513462            -0.725387           0.383760   \n",
       "2                1.0         0.308435            -0.725387          -0.273343   \n",
       "3                2.0         0.710111            -0.054059           2.355070   \n",
       "4               -0.5        -1.298267            -1.061051          -0.930446   \n",
       "\n",
       "   NumWebVisitsMonth  AcceptedCmp3  AcceptedCmp4  AcceptedCmp5  AcceptedCmp1  \\\n",
       "0              -0.25             0             0             0             0   \n",
       "1               0.25             0             1             0             0   \n",
       "2               0.00             0             0             0             0   \n",
       "3               0.25             0             0             0             0   \n",
       "4               0.25             0             0             0             0   \n",
       "\n",
       "   AcceptedCmp2  Complain  Income_PerCap  Prop_Spending_Income_pc  Avg_Ticket  \\\n",
       "0             0         0       0.092126                -0.109534   -0.085148   \n",
       "1             0         0      -0.058510                 0.195506   -0.009137   \n",
       "2             0         0      -0.231638                -0.030141   -0.205095   \n",
       "3             0         0       0.103000                 1.843065    0.585346   \n",
       "4             0         0      -0.412845                -0.631115   -0.459179   \n",
       "\n",
       "        Age  Dt_Customer_InDays  Education_2n Cycle  Education_Basic  \\\n",
       "0  1.535112           -0.711722                   0                0   \n",
       "1  0.374637           -1.180034                   0                0   \n",
       "2  0.731706           -1.468226                   0                0   \n",
       "3  0.642439           -0.577919                   0                0   \n",
       "4 -0.607304            0.106537                   0                0   \n",
       "\n",
       "   Education_Graduation  Education_Master  Education_PhD  \\\n",
       "0                     1                 0              0   \n",
       "1                     1                 0              0   \n",
       "2                     1                 0              0   \n",
       "3                     0                 1              0   \n",
       "4                     0                 1              0   \n",
       "\n",
       "   Marital_Status_Divorced  Marital_Status_Married  Marital_Status_Single  \\\n",
       "0                        0                       0                      1   \n",
       "1                        0                       1                      0   \n",
       "2                        0                       1                      0   \n",
       "3                        0                       1                      0   \n",
       "4                        0                       0                      0   \n",
       "\n",
       "   Marital_Status_Together  Marital_Status_Widow  \n",
       "0                        0                     0  \n",
       "1                        0                     0  \n",
       "2                        0                     0  \n",
       "3                        0                     0  \n",
       "4                        1                     0  "
      ]
     },
     "execution_count": 21,
     "metadata": {},
     "output_type": "execute_result"
    }
   ],
   "source": [
    "X_train.head()"
   ]
  },
  {
   "cell_type": "code",
   "execution_count": 22,
   "id": "dependent-boston",
   "metadata": {},
   "outputs": [],
   "source": [
    "# Transforming x_val and x_test with scalers from X_train\n",
    "\n",
    "X_val[to_robust_scale] = robust_scaler.transform(X_val[to_robust_scale])\n",
    "X_test[to_robust_scale] = robust_scaler.transform(X_test[to_robust_scale])\n",
    "\n",
    "X_val[to_standardize] = stand_scaler.transform(X_val[to_standardize])\n",
    "X_test[to_standardize] = stand_scaler.transform(X_test[to_standardize])"
   ]
  },
  {
   "cell_type": "code",
   "execution_count": 23,
   "id": "independent-granny",
   "metadata": {},
   "outputs": [
    {
     "data": {
      "text/plain": [
       "0    1217\n",
       "1    1217\n",
       "Name: Response, dtype: int64"
      ]
     },
     "execution_count": 23,
     "metadata": {},
     "output_type": "execute_result"
    }
   ],
   "source": [
    "y_train.value_counts()"
   ]
  },
  {
   "cell_type": "code",
   "execution_count": 24,
   "id": "accurate-charger",
   "metadata": {},
   "outputs": [
    {
     "data": {
      "text/plain": [
       "LogisticRegression()"
      ]
     },
     "execution_count": 24,
     "metadata": {},
     "output_type": "execute_result"
    }
   ],
   "source": [
    "log_model = LogisticRegression()\n",
    "log_model.fit(X_train, y_train)"
   ]
  },
  {
   "cell_type": "code",
   "execution_count": 25,
   "id": "respiratory-algeria",
   "metadata": {},
   "outputs": [
    {
     "data": {
      "text/plain": [
       "0.8324022346368715"
      ]
     },
     "execution_count": 25,
     "metadata": {},
     "output_type": "execute_result"
    }
   ],
   "source": [
    "log_model.score(X_val, y_val)"
   ]
  },
  {
   "cell_type": "code",
   "execution_count": 26,
   "id": "legal-daughter",
   "metadata": {},
   "outputs": [],
   "source": [
    "y_val_pred = log_model.predict(X_val)\n",
    "y_test_pred = log_model.predict(X_test)"
   ]
  },
  {
   "cell_type": "code",
   "execution_count": 27,
   "id": "joined-generation",
   "metadata": {},
   "outputs": [
    {
     "name": "stdout",
     "output_type": "stream",
     "text": [
      "              precision    recall  f1-score   support\n",
      "\n",
      "           0       0.95      0.88      0.91       384\n",
      "           1       0.50      0.75      0.60        63\n",
      "\n",
      "    accuracy                           0.86       447\n",
      "   macro avg       0.73      0.81      0.76       447\n",
      "weighted avg       0.89      0.86      0.87       447\n",
      "\n"
     ]
    }
   ],
   "source": [
    "print(classification_report(y_test, y_test_pred))"
   ]
  },
  {
   "cell_type": "code",
   "execution_count": 28,
   "id": "ranking-scene",
   "metadata": {},
   "outputs": [
    {
     "data": {
      "image/png": "[encoded data removed]",
      "text/plain": [
       "<Figure size 432x288 with 2 Axes>"
      ]
     },
     "metadata": {
      "needs_background": "light"
     },
     "output_type": "display_data"
    }
   ],
   "source": [
    "sns.heatmap(confusion_matrix(y_test, y_test_pred, labels = [1, 0]), annot = True);"
   ]
  },
  {
   "cell_type": "code",
   "execution_count": 29,
   "id": "arctic-earth",
   "metadata": {},
   "outputs": [
    {
     "data": {
      "text/plain": [
       "{'fit_time': array([0.05677509, 0.0385952 , 0.03705788, 0.0327301 , 0.03499317,\n",
       "        0.03550196, 0.03527713, 0.03619218, 0.03361487, 0.03432798]),\n",
       " 'score_time': array([0.00352883, 0.00286579, 0.0028491 , 0.00299478, 0.00282073,\n",
       "        0.00283217, 0.0035069 , 0.00283909, 0.00283122, 0.00336003]),\n",
       " 'test_accuracy': array([0.71721311, 0.76639344, 0.8852459 , 0.8852459 , 0.90123457,\n",
       "        0.88477366, 0.89300412, 0.85596708, 0.91358025, 0.93415638]),\n",
       " 'test_f1': array([0.64248705, 0.7510917 , 0.888     , 0.888     , 0.90625   ,\n",
       "        0.8852459 , 0.89430894, 0.8582996 , 0.91828794, 0.93650794])}"
      ]
     },
     "execution_count": 29,
     "metadata": {},
     "output_type": "execute_result"
    }
   ],
   "source": [
    "cv_log_model = cross_validate(log_model, X_train, y_train, cv = 10, scoring = ['accuracy', 'f1'])\n",
    "cv_log_model"
   ]
  },
  {
   "cell_type": "code",
   "execution_count": 30,
   "id": "ancient-teaching",
   "metadata": {},
   "outputs": [
    {
     "data": {
      "text/plain": [
       "0.8636814410038453"
      ]
     },
     "execution_count": 30,
     "metadata": {},
     "output_type": "execute_result"
    }
   ],
   "source": [
    "cv_log_model['test_accuracy'].mean()"
   ]
  },
  {
   "cell_type": "code",
   "execution_count": 31,
   "id": "developed-expansion",
   "metadata": {},
   "outputs": [
    {
     "data": {
      "text/plain": [
       "0.8568479063810497"
      ]
     },
     "execution_count": 31,
     "metadata": {},
     "output_type": "execute_result"
    }
   ],
   "source": [
    "cv_log_model['test_f1'].mean()"
   ]
  },
  {
   "cell_type": "code",
   "execution_count": 32,
   "id": "increasing-fifty",
   "metadata": {},
   "outputs": [],
   "source": [
    "LogisticRegression()\n",
    "\n",
    "\n",
    "random_grid = {\n",
    "    'penalty': ['l2', 'l1', 'elasticnet'],\n",
    "    'tol': stats.loguniform(0.1, 1),\n",
    "    'C': stats.loguniform(3, 10)\n",
    "    }\n",
    "\n",
    "log_model_rand_search = RandomizedSearchCV(log_model, param_distributions = random_grid, \n",
    "                                           n_iter = 100, cv = 10, scoring = 'f1', verbose = 1, n_jobs = -1)"
   ]
  },
  {
   "cell_type": "code",
   "execution_count": 33,
   "id": "vocational-enterprise",
   "metadata": {},
   "outputs": [
    {
     "name": "stdout",
     "output_type": "stream",
     "text": [
      "Fitting 10 folds for each of 100 candidates, totalling 1000 fits\n"
     ]
    },
    {
     "data": {
      "text/plain": [
       "RandomizedSearchCV(cv=10, estimator=LogisticRegression(), n_iter=100, n_jobs=-1,\n",
       "                   param_distributions={'C': <scipy.stats._distn_infrastructure.rv_frozen object at 0x12ce18df0>,\n",
       "                                        'penalty': ['l2', 'l1', 'elasticnet'],\n",
       "                                        'tol': <scipy.stats._distn_infrastructure.rv_frozen object at 0x12cbf9bb0>},\n",
       "                   scoring='f1', verbose=1)"
      ]
     },
     "execution_count": 33,
     "metadata": {},
     "output_type": "execute_result"
    }
   ],
   "source": [
    "log_model_rand_search.fit(X_train, y_train)"
   ]
  },
  {
   "cell_type": "code",
   "execution_count": 34,
   "id": "affiliated-outreach",
   "metadata": {},
   "outputs": [
    {
     "data": {
      "text/plain": [
       "{'C': 3.2933287460837075, 'penalty': 'l2', 'tol': 0.1128770199138835}"
      ]
     },
     "execution_count": 34,
     "metadata": {},
     "output_type": "execute_result"
    }
   ],
   "source": [
    "log_model_rand_search.best_params_"
   ]
  },
  {
   "cell_type": "code",
   "execution_count": 35,
   "id": "bound-bandwidth",
   "metadata": {},
   "outputs": [],
   "source": [
    "y_val_pred_log_model_rand_search = log_model_rand_search.predict(X_val)"
   ]
  },
  {
   "cell_type": "code",
   "execution_count": 36,
   "id": "charming-sunglasses",
   "metadata": {},
   "outputs": [
    {
     "name": "stdout",
     "output_type": "stream",
     "text": [
      "              precision    recall  f1-score   support\n",
      "\n",
      "           0       0.94      0.85      0.89       299\n",
      "           1       0.49      0.73      0.59        59\n",
      "\n",
      "    accuracy                           0.83       358\n",
      "   macro avg       0.71      0.79      0.74       358\n",
      "weighted avg       0.87      0.83      0.84       358\n",
      "\n"
     ]
    }
   ],
   "source": [
    "print(classification_report(y_val, y_val_pred_log_model_rand_search))"
   ]
  },
  {
   "cell_type": "markdown",
   "id": "chubby-soldier",
   "metadata": {},
   "source": [
    "## Baseline Model"
   ]
  },
  {
   "cell_type": "markdown",
   "id": "obvious-technician",
   "metadata": {},
   "source": [
    "LogisticRegression\n",
    "KNNClassifier\n",
    "SVC\n",
    "RFClassifier\n",
    "AdaBoost\n",
    "GradientBoostClassifier\n",
    "XGBoostClassifier"
   ]
  },
  {
   "cell_type": "code",
   "execution_count": 37,
   "id": "protective-growth",
   "metadata": {},
   "outputs": [],
   "source": [
    "from sklearn.neighbors import KNeighborsClassifier\n",
    "from sklearn.svm import SVC\n",
    "from sklearn.ensemble import RandomForestClassifier, AdaBoostClassifier, GradientBoostingClassifier \n",
    "from xgboost import XGBClassifier"
   ]
  },
  {
   "cell_type": "code",
   "execution_count": 38,
   "id": "understood-artwork",
   "metadata": {},
   "outputs": [],
   "source": [
    "models = {'logreg': LogisticRegression(),\n",
    "          'knn_classifier': KNeighborsClassifier(),\n",
    "          'SVM_classifier': SVC(),\n",
    "          'RF_classifier': RandomForestClassifier(),\n",
    "          'AdaBoost_classifier': AdaBoostClassifier(),\n",
    "          'GradientBoosting_classifier': GradientBoostingClassifier(),\n",
    "          'XGboost': XGBClassifier()}"
   ]
  },
  {
   "cell_type": "code",
   "execution_count": 39,
   "id": "violent-storage",
   "metadata": {},
   "outputs": [
    {
     "data": {
      "text/plain": [
       "(dict_keys(['logreg', 'knn_classifier', 'SVM_classifier', 'RF_classifier', 'AdaBoost_classifier', 'GradientBoosting_classifier', 'XGboost']),\n",
       " dict_values([LogisticRegression(), KNeighborsClassifier(), SVC(), RandomForestClassifier(), AdaBoostClassifier(), GradientBoostingClassifier(), XGBClassifier(base_score=None, booster=None, colsample_bylevel=None,\n",
       "               colsample_bynode=None, colsample_bytree=None, gamma=None,\n",
       "               gpu_id=None, importance_type='gain', interaction_constraints=None,\n",
       "               learning_rate=None, max_delta_step=None, max_depth=None,\n",
       "               min_child_weight=None, missing=nan, monotone_constraints=None,\n",
       "               n_estimators=100, n_jobs=None, num_parallel_tree=None,\n",
       "               random_state=None, reg_alpha=None, reg_lambda=None,\n",
       "               scale_pos_weight=None, subsample=None, tree_method=None,\n",
       "               validate_parameters=None, verbosity=None)]))"
      ]
     },
     "execution_count": 39,
     "metadata": {},
     "output_type": "execute_result"
    }
   ],
   "source": [
    "models.keys(), models.values()"
   ]
  },
  {
   "cell_type": "code",
   "execution_count": 40,
   "id": "solid-envelope",
   "metadata": {},
   "outputs": [
    {
     "data": {
      "text/plain": [
       "dict_keys(['logreg', 'knn_classifier', 'SVM_classifier', 'RF_classifier', 'AdaBoost_classifier', 'GradientBoosting_classifier', 'XGboost'])"
      ]
     },
     "execution_count": 40,
     "metadata": {},
     "output_type": "execute_result"
    }
   ],
   "source": [
    "models.keys()"
   ]
  },
  {
   "cell_type": "code",
   "execution_count": 41,
   "id": "foster-harvard",
   "metadata": {},
   "outputs": [
    {
     "name": "stdout",
     "output_type": "stream",
     "text": [
      "              precision    recall  f1-score   support\n",
      "\n",
      "           0       0.91      0.96      0.93       299\n",
      "           1       0.71      0.54      0.62        59\n",
      "\n",
      "    accuracy                           0.89       358\n",
      "   macro avg       0.81      0.75      0.78       358\n",
      "weighted avg       0.88      0.89      0.88       358\n",
      "\n"
     ]
    }
   ],
   "source": [
    "model_teste = RandomForestClassifier()\n",
    "model_teste.fit(X_train, y_train)\n",
    "\n",
    "print(classification_report(y_val, model_teste.predict(X_val)))"
   ]
  },
  {
   "cell_type": "code",
   "execution_count": 42,
   "id": "scenic-breakdown",
   "metadata": {},
   "outputs": [],
   "source": [
    "param_grid_rf = {\n",
    "            'n_estimators': [50, 60, 70, 80, 90, 100],\n",
    "            'max_depth': np.arange(0, 10),\n",
    "            'min_samples_split': np.arange(0, 10),\n",
    "            'min_samples_leaf': stats.loguniform(.01, 1),\n",
    "        }"
   ]
  },
  {
   "cell_type": "code",
   "execution_count": 43,
   "id": "biblical-chassis",
   "metadata": {},
   "outputs": [
    {
     "data": {
      "text/plain": [
       "{'n_estimators': [50, 60, 70, 80, 90, 100],\n",
       " 'max_depth': array([0, 1, 2, 3, 4, 5, 6, 7, 8, 9]),\n",
       " 'min_samples_split': array([0, 1, 2, 3, 4, 5, 6, 7, 8, 9]),\n",
       " 'min_samples_leaf': <scipy.stats._distn_infrastructure.rv_frozen at 0x12cf20250>}"
      ]
     },
     "execution_count": 43,
     "metadata": {},
     "output_type": "execute_result"
    }
   ],
   "source": [
    "param_grid_rf"
   ]
  },
  {
   "cell_type": "code",
   "execution_count": 44,
   "id": "continuing-acceptance",
   "metadata": {},
   "outputs": [
    {
     "name": "stdout",
     "output_type": "stream",
     "text": [
      "Fitting 10 folds for each of 100 candidates, totalling 1000 fits\n"
     ]
    },
    {
     "data": {
      "text/plain": [
       "RandomizedSearchCV(cv=10, estimator=RandomForestClassifier(), n_iter=100,\n",
       "                   n_jobs=-1,\n",
       "                   param_distributions={'max_depth': array([0, 1, 2, 3, 4, 5, 6, 7, 8, 9]),\n",
       "                                        'min_samples_leaf': <scipy.stats._distn_infrastructure.rv_frozen object at 0x12cf20250>,\n",
       "                                        'min_samples_split': array([0, 1, 2, 3, 4, 5, 6, 7, 8, 9]),\n",
       "                                        'n_estimators': [50, 60, 70, 80, 90,\n",
       "                                                         100]},\n",
       "                   verbose=1)"
      ]
     },
     "execution_count": 44,
     "metadata": {},
     "output_type": "execute_result"
    }
   ],
   "source": [
    "randforest_rsearch = RandomizedSearchCV(model_teste, param_distributions = param_grid_rf, n_iter = 100, \n",
    "                                        verbose = 1, n_jobs = -1, cv = 10)\n",
    "\n",
    "randforest_rsearch.fit(X_train, y_train)"
   ]
  },
  {
   "cell_type": "code",
   "execution_count": 45,
   "id": "intense-headquarters",
   "metadata": {},
   "outputs": [
    {
     "name": "stdout",
     "output_type": "stream",
     "text": [
      "              precision    recall  f1-score   support\n",
      "\n",
      "           0       0.93      0.88      0.90       299\n",
      "           1       0.51      0.64      0.57        59\n",
      "\n",
      "    accuracy                           0.84       358\n",
      "   macro avg       0.72      0.76      0.73       358\n",
      "weighted avg       0.86      0.84      0.85       358\n",
      "\n"
     ]
    }
   ],
   "source": [
    "print(classification_report(y_val, randforest_rsearch.predict(X_val)))"
   ]
  },
  {
   "cell_type": "code",
   "execution_count": 46,
   "id": "covered-appliance",
   "metadata": {},
   "outputs": [
    {
     "name": "stdout",
     "output_type": "stream",
     "text": [
      "######### logreg - Classification Report #########\n",
      "Fitting 10 folds for each of 100 candidates, totalling 1000 fits\n",
      "              precision    recall  f1-score   support\n",
      "\n",
      "           0       0.95      0.88      0.92       384\n",
      "           1       0.51      0.73      0.60        63\n",
      "\n",
      "    accuracy                           0.86       447\n",
      "   macro avg       0.73      0.81      0.76       447\n",
      "weighted avg       0.89      0.86      0.87       447\n",
      " \n",
      "\n",
      "######### knn_classifier - Classification Report #########\n",
      "Fitting 10 folds for each of 5 candidates, totalling 50 fits\n",
      "              precision    recall  f1-score   support\n",
      "\n",
      "           0       0.92      0.79      0.85       384\n",
      "           1       0.32      0.60      0.42        63\n",
      "\n",
      "    accuracy                           0.77       447\n",
      "   macro avg       0.62      0.70      0.64       447\n",
      "weighted avg       0.84      0.77      0.79       447\n",
      " \n",
      "\n",
      "######### SVM_classifier - Classification Report #########\n",
      "Fitting 10 folds for each of 100 candidates, totalling 1000 fits\n",
      "              precision    recall  f1-score   support\n",
      "\n",
      "           0       0.88      0.57      0.69       384\n",
      "           1       0.16      0.51      0.25        63\n",
      "\n",
      "    accuracy                           0.56       447\n",
      "   macro avg       0.52      0.54      0.47       447\n",
      "weighted avg       0.77      0.56      0.63       447\n",
      " \n",
      "\n",
      "######### RF_classifier - Classification Report #########\n",
      "Fitting 10 folds for each of 100 candidates, totalling 1000 fits\n",
      "              precision    recall  f1-score   support\n",
      "\n",
      "           0       0.94      0.86      0.90       384\n",
      "           1       0.43      0.63      0.51        63\n",
      "\n",
      "    accuracy                           0.83       447\n",
      "   macro avg       0.68      0.75      0.70       447\n",
      "weighted avg       0.86      0.83      0.84       447\n",
      " \n",
      "\n",
      "######### AdaBoost_classifier - Classification Report #########\n",
      "Fitting 10 folds for each of 100 candidates, totalling 1000 fits\n",
      "              precision    recall  f1-score   support\n",
      "\n",
      "           0       0.94      0.42      0.58       384\n",
      "           1       0.19      0.84      0.31        63\n",
      "\n",
      "    accuracy                           0.48       447\n",
      "   macro avg       0.57      0.63      0.45       447\n",
      "weighted avg       0.84      0.48      0.54       447\n",
      " \n",
      "\n",
      "######### GradientBoosting_classifier - Classification Report #########\n",
      "Fitting 10 folds for each of 100 candidates, totalling 1000 fits\n",
      "              precision    recall  f1-score   support\n",
      "\n",
      "           0       0.91      0.59      0.72       384\n",
      "           1       0.20      0.63      0.31        63\n",
      "\n",
      "    accuracy                           0.60       447\n",
      "   macro avg       0.56      0.61      0.51       447\n",
      "weighted avg       0.81      0.60      0.66       447\n",
      " \n",
      "\n",
      "######### XGboost - Classification Report #########\n",
      "Fitting 10 folds for each of 100 candidates, totalling 1000 fits\n",
      "[15:35:48] WARNING: /Users/travis/build/dmlc/xgboost/src/learner.cc:1061: Starting in XGBoost 1.3.0, the default evaluation metric used with the objective 'binary:logistic' was changed from 'error' to 'logloss'. Explicitly set eval_metric if you'd like to restore the old behavior.\n",
      "              precision    recall  f1-score   support\n",
      "\n",
      "           0       0.91      0.89      0.90       384\n",
      "           1       0.42      0.49      0.45        63\n",
      "\n",
      "    accuracy                           0.83       447\n",
      "   macro avg       0.67      0.69      0.68       447\n",
      "weighted avg       0.84      0.83      0.84       447\n",
      " \n",
      "\n"
     ]
    }
   ],
   "source": [
    "for model_key, model_value in models.items():\n",
    "    if model_key == 'logreg':\n",
    "        param_grid = {\n",
    "            'penalty': ['l2', 'l1', 'elasticnet'],\n",
    "            'tol': stats.loguniform(0.1, 1),\n",
    "            'C': stats.loguniform(3, 10)\n",
    "        }\n",
    "    elif model_key == 'knn_classifier':\n",
    "        param_grid = {'n_neighbors':[3, 4, 5, 6, 7]}\n",
    "    elif model_key == 'SVM_classifier':\n",
    "        param_grid = {\n",
    "            'C': stats.loguniform(3, 10)\n",
    "        }\n",
    "    elif model_key == 'RF_classifier':\n",
    "        param_grid = {\n",
    "            'n_estimators': [50, 60, 70, 80, 90, 100],\n",
    "            'max_depth': np.arange(0, 10),\n",
    "            'min_samples_split': np.arange(0, 10),\n",
    "            'min_samples_leaf': stats.loguniform(.01, 1),\n",
    "        }\n",
    "    elif model_key == 'AdaBoost_classifier':\n",
    "        param_grid = {\n",
    "            'learning_rate': stats.lognorm(.001, 1)\n",
    "        }\n",
    "    elif model_key == 'GradientBoosting_classifier':\n",
    "        param_grid = {\n",
    "            'learning_rate': stats.lognorm(.001, 1),\n",
    "            'n_estimators': [50, 60, 70, 80, 90, 100],\n",
    "            'min_samples_split': np.arange(0, 10),\n",
    "            'min_samples_leaf': stats.loguniform(.01, 1),\n",
    "            'max_depth': np.arange(0, 10)\n",
    "        }\n",
    "    else:\n",
    "        param_grid = {\n",
    "            'n_estimators': [50, 60, 70, 80, 90, 100],\n",
    "            'max_depth': np.arange(0, 10),\n",
    "            'learning_rate': stats.lognorm(.001, 1),\n",
    "            'gamma': stats.lognorm(.001, 1),\n",
    "        } \n",
    "    print(f'######### {model_key} - Classification Report #########')   \n",
    "    model_rsearch = RandomizedSearchCV(model_value, param_distributions = param_grid, n_iter = 100, scoring = 'f1',\n",
    "                                       cv = 10, n_jobs = -1, verbose = 1)\n",
    "    \n",
    "    model_rsearch.fit(X_train, y_train)\n",
    "    y_pred = model_rsearch.predict(X_test)\n",
    "    print(classification_report(y_test, y_pred), '\\n')"
   ]
  },
  {
   "cell_type": "code",
   "execution_count": null,
   "id": "covered-disco",
   "metadata": {},
   "outputs": [],
   "source": []
  }
 ],
 "metadata": {
  "kernelspec": {
   "display_name": "Python 3",
   "language": "python",
   "name": "python3"
  },
  "language_info": {
   "codemirror_mode": {
    "name": "ipython",
    "version": 3
   },
   "file_extension": ".py",
   "mimetype": "text/x-python",
   "name": "python",
   "nbconvert_exporter": "python",
   "pygments_lexer": "ipython3",
   "version": "3.8.6"
  }
 },
 "nbformat": 4,
 "nbformat_minor": 5
}
